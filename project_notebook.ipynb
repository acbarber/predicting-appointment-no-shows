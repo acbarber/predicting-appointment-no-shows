{
 "cells": [
  {
   "cell_type": "code",
   "execution_count": 2,
   "metadata": {},
   "outputs": [],
   "source": [
    "import pandas as pd\n",
    "import numpy as np\n",
    "import seaborn as sns\n",
    "from scipy import stats\n",
    "import statsmodels.formula.api as smf\n",
    "import statsmodels.api as sm\n",
    "%matplotlib inline\n",
    "import warnings\n",
    "warnings.filterwarnings('ignore')\n",
    "sns.set_context(\"notebook\")  # make figures fit\n",
    "from pylab import rcParams\n",
    "import matplotlib.pyplot as plt\n",
    "from statsmodels.graphics.mosaicplot import mosaic\n",
    "from IPython.display import Image\n",
    "from IPython.core.display import HTML \n",
    "import sklearn as sk\n",
    "import sklearn.cluster as skc\n",
    "import sklearn.decomposition as skd\n",
    "import sklearn.manifold as skm\n",
    "import sklearn.preprocessing as skp"
   ]
  },
  {
   "cell_type": "markdown",
   "metadata": {},
   "source": [
    "# Part 1 - EDA of Coninuous Variables"
   ]
  },
  {
   "cell_type": "code",
   "execution_count": 312,
   "metadata": {},
   "outputs": [],
   "source": [
    "data=pd.read_csv('KaggleV2-May-2016.csv/KaggleV2-May-2016.csv')"
   ]
  },
  {
   "cell_type": "code",
   "execution_count": 612,
   "metadata": {},
   "outputs": [
    {
     "data": {
      "text/plain": [
       "0.798067440534892"
      ]
     },
     "execution_count": 612,
     "metadata": {},
     "output_type": "execute_result"
    }
   ],
   "source": [
    "data=data.rename(index=str, columns={'Hipertension':'Hypertension'})\n",
    "len(data)\n",
    "len(data[data['no_show']==0])/len(data)"
   ]
  },
  {
   "cell_type": "code",
   "execution_count": 316,
   "metadata": {},
   "outputs": [],
   "source": [
    "data['ScheduledDay']=pd.to_datetime(data['ScheduledDay'])\n",
    "data['AppointmentDay']=pd.to_datetime(data['AppointmentDay'])"
   ]
  },
  {
   "cell_type": "code",
   "execution_count": 317,
   "metadata": {},
   "outputs": [],
   "source": [
    "data['wait_time']=(data.AppointmentDay - data.ScheduledDay).astype('timedelta64[D]')"
   ]
  },
  {
   "cell_type": "code",
   "execution_count": 318,
   "metadata": {},
   "outputs": [],
   "source": [
    "data['wait_time']=data['wait_time'].apply(lambda x: 0.0 if x<0 else x)"
   ]
  },
  {
   "cell_type": "code",
   "execution_count": 319,
   "metadata": {},
   "outputs": [],
   "source": [
    "# Make column for day of the week appointment day is on\n",
    "# Make column for day of the week of scheduled day\n",
    "# Make column for time of day of scheduled day\n",
    "\n",
    "data['day_week_appt']=data2.AppointmentDay.apply(lambda x: x.weekday_name)\n",
    "data['day_week_sched']=data2.ScheduledDay.apply(lambda x: x.weekday_name)\n",
    "data['hour_of_day_sched']=data2.ScheduledDay.apply(lambda x: x.hour)"
   ]
  },
  {
   "cell_type": "code",
   "execution_count": 320,
   "metadata": {},
   "outputs": [
    {
     "data": {
      "text/html": [
       "<div>\n",
       "<style scoped>\n",
       "    .dataframe tbody tr th:only-of-type {\n",
       "        vertical-align: middle;\n",
       "    }\n",
       "\n",
       "    .dataframe tbody tr th {\n",
       "        vertical-align: top;\n",
       "    }\n",
       "\n",
       "    .dataframe thead th {\n",
       "        text-align: right;\n",
       "    }\n",
       "</style>\n",
       "<table border=\"1\" class=\"dataframe\">\n",
       "  <thead>\n",
       "    <tr style=\"text-align: right;\">\n",
       "      <th></th>\n",
       "      <th>PatientId</th>\n",
       "      <th>AppointmentID</th>\n",
       "      <th>Gender</th>\n",
       "      <th>ScheduledDay</th>\n",
       "      <th>AppointmentDay</th>\n",
       "      <th>Age</th>\n",
       "      <th>Neighbourhood</th>\n",
       "      <th>Scholarship</th>\n",
       "      <th>Hypertension</th>\n",
       "      <th>Diabetes</th>\n",
       "      <th>Alcoholism</th>\n",
       "      <th>Handcap</th>\n",
       "      <th>SMS_received</th>\n",
       "      <th>No-show</th>\n",
       "      <th>wait_time</th>\n",
       "      <th>day_week_appt</th>\n",
       "      <th>day_week_sched</th>\n",
       "      <th>hour_of_day_sched</th>\n",
       "    </tr>\n",
       "  </thead>\n",
       "  <tbody>\n",
       "    <tr>\n",
       "      <th>0</th>\n",
       "      <td>2.987250e+13</td>\n",
       "      <td>5642903</td>\n",
       "      <td>F</td>\n",
       "      <td>2016-04-29 18:38:08</td>\n",
       "      <td>2016-04-29</td>\n",
       "      <td>62</td>\n",
       "      <td>JARDIM DA PENHA</td>\n",
       "      <td>0</td>\n",
       "      <td>1</td>\n",
       "      <td>0</td>\n",
       "      <td>0</td>\n",
       "      <td>0</td>\n",
       "      <td>0</td>\n",
       "      <td>No</td>\n",
       "      <td>0.0</td>\n",
       "      <td>Friday</td>\n",
       "      <td>Friday</td>\n",
       "      <td>18</td>\n",
       "    </tr>\n",
       "    <tr>\n",
       "      <th>1</th>\n",
       "      <td>5.589978e+14</td>\n",
       "      <td>5642503</td>\n",
       "      <td>M</td>\n",
       "      <td>2016-04-29 16:08:27</td>\n",
       "      <td>2016-04-29</td>\n",
       "      <td>56</td>\n",
       "      <td>JARDIM DA PENHA</td>\n",
       "      <td>0</td>\n",
       "      <td>0</td>\n",
       "      <td>0</td>\n",
       "      <td>0</td>\n",
       "      <td>0</td>\n",
       "      <td>0</td>\n",
       "      <td>No</td>\n",
       "      <td>0.0</td>\n",
       "      <td>Friday</td>\n",
       "      <td>Friday</td>\n",
       "      <td>16</td>\n",
       "    </tr>\n",
       "    <tr>\n",
       "      <th>2</th>\n",
       "      <td>4.262962e+12</td>\n",
       "      <td>5642549</td>\n",
       "      <td>F</td>\n",
       "      <td>2016-04-29 16:19:04</td>\n",
       "      <td>2016-04-29</td>\n",
       "      <td>62</td>\n",
       "      <td>MATA DA PRAIA</td>\n",
       "      <td>0</td>\n",
       "      <td>0</td>\n",
       "      <td>0</td>\n",
       "      <td>0</td>\n",
       "      <td>0</td>\n",
       "      <td>0</td>\n",
       "      <td>No</td>\n",
       "      <td>0.0</td>\n",
       "      <td>Friday</td>\n",
       "      <td>Friday</td>\n",
       "      <td>16</td>\n",
       "    </tr>\n",
       "    <tr>\n",
       "      <th>3</th>\n",
       "      <td>8.679512e+11</td>\n",
       "      <td>5642828</td>\n",
       "      <td>F</td>\n",
       "      <td>2016-04-29 17:29:31</td>\n",
       "      <td>2016-04-29</td>\n",
       "      <td>8</td>\n",
       "      <td>PONTAL DE CAMBURI</td>\n",
       "      <td>0</td>\n",
       "      <td>0</td>\n",
       "      <td>0</td>\n",
       "      <td>0</td>\n",
       "      <td>0</td>\n",
       "      <td>0</td>\n",
       "      <td>No</td>\n",
       "      <td>0.0</td>\n",
       "      <td>Friday</td>\n",
       "      <td>Friday</td>\n",
       "      <td>17</td>\n",
       "    </tr>\n",
       "    <tr>\n",
       "      <th>4</th>\n",
       "      <td>8.841186e+12</td>\n",
       "      <td>5642494</td>\n",
       "      <td>F</td>\n",
       "      <td>2016-04-29 16:07:23</td>\n",
       "      <td>2016-04-29</td>\n",
       "      <td>56</td>\n",
       "      <td>JARDIM DA PENHA</td>\n",
       "      <td>0</td>\n",
       "      <td>1</td>\n",
       "      <td>1</td>\n",
       "      <td>0</td>\n",
       "      <td>0</td>\n",
       "      <td>0</td>\n",
       "      <td>No</td>\n",
       "      <td>0.0</td>\n",
       "      <td>Friday</td>\n",
       "      <td>Friday</td>\n",
       "      <td>16</td>\n",
       "    </tr>\n",
       "  </tbody>\n",
       "</table>\n",
       "</div>"
      ],
      "text/plain": [
       "      PatientId  AppointmentID Gender        ScheduledDay AppointmentDay  Age  \\\n",
       "0  2.987250e+13        5642903      F 2016-04-29 18:38:08     2016-04-29   62   \n",
       "1  5.589978e+14        5642503      M 2016-04-29 16:08:27     2016-04-29   56   \n",
       "2  4.262962e+12        5642549      F 2016-04-29 16:19:04     2016-04-29   62   \n",
       "3  8.679512e+11        5642828      F 2016-04-29 17:29:31     2016-04-29    8   \n",
       "4  8.841186e+12        5642494      F 2016-04-29 16:07:23     2016-04-29   56   \n",
       "\n",
       "       Neighbourhood  Scholarship  Hypertension  Diabetes  Alcoholism  \\\n",
       "0    JARDIM DA PENHA            0             1         0           0   \n",
       "1    JARDIM DA PENHA            0             0         0           0   \n",
       "2      MATA DA PRAIA            0             0         0           0   \n",
       "3  PONTAL DE CAMBURI            0             0         0           0   \n",
       "4    JARDIM DA PENHA            0             1         1           0   \n",
       "\n",
       "   Handcap  SMS_received No-show  wait_time day_week_appt day_week_sched  \\\n",
       "0        0             0      No        0.0        Friday         Friday   \n",
       "1        0             0      No        0.0        Friday         Friday   \n",
       "2        0             0      No        0.0        Friday         Friday   \n",
       "3        0             0      No        0.0        Friday         Friday   \n",
       "4        0             0      No        0.0        Friday         Friday   \n",
       "\n",
       "   hour_of_day_sched  \n",
       "0                 18  \n",
       "1                 16  \n",
       "2                 16  \n",
       "3                 17  \n",
       "4                 16  "
      ]
     },
     "execution_count": 320,
     "metadata": {},
     "output_type": "execute_result"
    }
   ],
   "source": [
    "data.head()"
   ]
  },
  {
   "cell_type": "code",
   "execution_count": 321,
   "metadata": {},
   "outputs": [],
   "source": [
    "def multiplePlots( series , title):\n",
    "    \n",
    "    fig, axs = plt.subplots(2,2)\n",
    "    plt.tight_layout(pad=0.5, w_pad=4, h_pad=2.0)\n",
    "    fig.suptitle(title)\n",
    "\n",
    "    # Histogram\n",
    "    sns.distplot(series, ax=axs[0,0])\n",
    "    \n",
    "    # Lag plot\n",
    "    lag = series.copy()\n",
    "    lag = np.array(lag[:-1])\n",
    "    current = series[1:]\n",
    "    ax = sns.regplot(current,lag,fit_reg=False, ax=axs[0,1])\n",
    "    ax.set_ylabel(\"y_i-1\")\n",
    "    ax.set_xlabel(\"y_i\")\n",
    "    \n",
    "    # QQ plot\n",
    "    qntls, xr = stats.probplot(series, fit=False)\n",
    "    sns.regplot(xr,qntls, ax=axs[1,0])\n",
    "    \n",
    "    # Run sequence\n",
    "    ax = sns.regplot(np.arange(len(series)),series, ax=axs[1,1])\n",
    "    ax.set_ylabel(\"val\")\n",
    "    ax.set_xlabel(\"i\")\n",
    "    \n",
    "    plt.subplots_adjust(top=0.9)\n"
   ]
  },
  {
   "cell_type": "code",
   "execution_count": 322,
   "metadata": {},
   "outputs": [],
   "source": [
    "no_shows=data[data['No-show']=='Yes']\n",
    "shows=data[data['No-show']=='No']"
   ]
  },
  {
   "cell_type": "code",
   "execution_count": 323,
   "metadata": {},
   "outputs": [
    {
     "data": {
      "image/png": "[encoded data removed]",
      "text/plain": [
       "<Figure size 432x288 with 4 Axes>"
      ]
     },
     "metadata": {},
     "output_type": "display_data"
    }
   ],
   "source": [
    "multiplePlots(no_shows['Age'], 'Age of No-shows')"
   ]
  },
  {
   "cell_type": "code",
   "execution_count": 324,
   "metadata": {},
   "outputs": [
    {
     "data": {
      "image/png": "[encoded data removed]",
      "text/plain": [
       "<Figure size 432x288 with 4 Axes>"
      ]
     },
     "metadata": {},
     "output_type": "display_data"
    }
   ],
   "source": [
    "multiplePlots(no_shows['wait_time'],'Wait Time of No-shows')"
   ]
  },
  {
   "cell_type": "code",
   "execution_count": 325,
   "metadata": {},
   "outputs": [
    {
     "data": {
      "image/png": "[encoded data removed]",
      "text/plain": [
       "<Figure size 432x288 with 4 Axes>"
      ]
     },
     "metadata": {},
     "output_type": "display_data"
    }
   ],
   "source": [
    "multiplePlots(shows['Age'], 'Age of Shows')"
   ]
  },
  {
   "cell_type": "code",
   "execution_count": 326,
   "metadata": {},
   "outputs": [
    {
     "data": {
      "image/png": "[encoded data removed]",
      "text/plain": [
       "<Figure size 432x288 with 4 Axes>"
      ]
     },
     "metadata": {},
     "output_type": "display_data"
    }
   ],
   "source": [
    "multiplePlots(shows['wait_time'], 'Wait Time of Shows')"
   ]
  },
  {
   "cell_type": "code",
   "execution_count": 328,
   "metadata": {},
   "outputs": [],
   "source": [
    "data.rename(index=str, columns={\"No-show\": \"no_show\"},inplace=True)"
   ]
  },
  {
   "cell_type": "code",
   "execution_count": 329,
   "metadata": {},
   "outputs": [
    {
     "data": {
      "text/html": [
       "<table class=\"simpletable\">\n",
       "<caption>OLS Regression Results</caption>\n",
       "<tr>\n",
       "  <th>Dep. Variable:</th>           <td>Age</td>       <th>  R-squared:         </th>  <td>   0.004</td>  \n",
       "</tr>\n",
       "<tr>\n",
       "  <th>Model:</th>                   <td>OLS</td>       <th>  Adj. R-squared:    </th>  <td>   0.004</td>  \n",
       "</tr>\n",
       "<tr>\n",
       "  <th>Method:</th>             <td>Least Squares</td>  <th>  F-statistic:       </th>  <td>   403.6</td>  \n",
       "</tr>\n",
       "<tr>\n",
       "  <th>Date:</th>             <td>Wed, 12 Dec 2018</td> <th>  Prob (F-statistic):</th>  <td>1.32e-89</td>  \n",
       "</tr>\n",
       "<tr>\n",
       "  <th>Time:</th>                 <td>01:24:34</td>     <th>  Log-Likelihood:    </th> <td>-5.0371e+05</td>\n",
       "</tr>\n",
       "<tr>\n",
       "  <th>No. Observations:</th>      <td>110527</td>      <th>  AIC:               </th>  <td>1.007e+06</td> \n",
       "</tr>\n",
       "<tr>\n",
       "  <th>Df Residuals:</th>          <td>110525</td>      <th>  BIC:               </th>  <td>1.007e+06</td> \n",
       "</tr>\n",
       "<tr>\n",
       "  <th>Df Model:</th>              <td>     1</td>      <th>                     </th>      <td> </td>     \n",
       "</tr>\n",
       "<tr>\n",
       "  <th>Covariance Type:</th>      <td>nonrobust</td>    <th>                     </th>      <td> </td>     \n",
       "</tr>\n",
       "</table>\n",
       "<table class=\"simpletable\">\n",
       "<tr>\n",
       "         <td></td>           <th>coef</th>     <th>std err</th>      <th>t</th>      <th>P>|t|</th>  <th>[0.025</th>    <th>0.975]</th>  \n",
       "</tr>\n",
       "<tr>\n",
       "  <th>Intercept</th>      <td>   37.7901</td> <td>    0.078</td> <td>  486.539</td> <td> 0.000</td> <td>   37.638</td> <td>   37.942</td>\n",
       "</tr>\n",
       "<tr>\n",
       "  <th>no_show[T.Yes]</th> <td>   -3.4724</td> <td>    0.173</td> <td>  -20.090</td> <td> 0.000</td> <td>   -3.811</td> <td>   -3.134</td>\n",
       "</tr>\n",
       "</table>\n",
       "<table class=\"simpletable\">\n",
       "<tr>\n",
       "  <th>Omnibus:</th>       <td>18548.621</td> <th>  Durbin-Watson:     </th> <td>   1.165</td>\n",
       "</tr>\n",
       "<tr>\n",
       "  <th>Prob(Omnibus):</th>  <td> 0.000</td>   <th>  Jarque-Bera (JB):  </th> <td>4284.977</td>\n",
       "</tr>\n",
       "<tr>\n",
       "  <th>Skew:</th>           <td> 0.114</td>   <th>  Prob(JB):          </th> <td>    0.00</td>\n",
       "</tr>\n",
       "<tr>\n",
       "  <th>Kurtosis:</th>       <td> 2.063</td>   <th>  Cond. No.          </th> <td>    2.61</td>\n",
       "</tr>\n",
       "</table><br/><br/>Warnings:<br/>[1] Standard Errors assume that the covariance matrix of the errors is correctly specified."
      ],
      "text/plain": [
       "<class 'statsmodels.iolib.summary.Summary'>\n",
       "\"\"\"\n",
       "                            OLS Regression Results                            \n",
       "==============================================================================\n",
       "Dep. Variable:                    Age   R-squared:                       0.004\n",
       "Model:                            OLS   Adj. R-squared:                  0.004\n",
       "Method:                 Least Squares   F-statistic:                     403.6\n",
       "Date:                Wed, 12 Dec 2018   Prob (F-statistic):           1.32e-89\n",
       "Time:                        01:24:34   Log-Likelihood:            -5.0371e+05\n",
       "No. Observations:              110527   AIC:                         1.007e+06\n",
       "Df Residuals:                  110525   BIC:                         1.007e+06\n",
       "Df Model:                           1                                         \n",
       "Covariance Type:            nonrobust                                         \n",
       "==================================================================================\n",
       "                     coef    std err          t      P>|t|      [0.025      0.975]\n",
       "----------------------------------------------------------------------------------\n",
       "Intercept         37.7901      0.078    486.539      0.000      37.638      37.942\n",
       "no_show[T.Yes]    -3.4724      0.173    -20.090      0.000      -3.811      -3.134\n",
       "==============================================================================\n",
       "Omnibus:                    18548.621   Durbin-Watson:                   1.165\n",
       "Prob(Omnibus):                  0.000   Jarque-Bera (JB):             4284.977\n",
       "Skew:                           0.114   Prob(JB):                         0.00\n",
       "Kurtosis:                       2.063   Cond. No.                         2.61\n",
       "==============================================================================\n",
       "\n",
       "Warnings:\n",
       "[1] Standard Errors assume that the covariance matrix of the errors is correctly specified.\n",
       "\"\"\""
      ]
     },
     "execution_count": 329,
     "metadata": {},
     "output_type": "execute_result"
    }
   ],
   "source": [
    "model=smf.ols('Age ~ no_show', data=data).fit()\n",
    "model.summary()"
   ]
  },
  {
   "cell_type": "markdown",
   "metadata": {},
   "source": [
    "The older you are, the more likely you will attend your appointment"
   ]
  },
  {
   "cell_type": "code",
   "execution_count": 330,
   "metadata": {},
   "outputs": [
    {
     "data": {
      "text/html": [
       "<table class=\"simpletable\">\n",
       "<caption>OLS Regression Results</caption>\n",
       "<tr>\n",
       "  <th>Dep. Variable:</th>        <td>wait_time</td>    <th>  R-squared:         </th>  <td>   0.032</td>  \n",
       "</tr>\n",
       "<tr>\n",
       "  <th>Model:</th>                   <td>OLS</td>       <th>  Adj. R-squared:    </th>  <td>   0.032</td>  \n",
       "</tr>\n",
       "<tr>\n",
       "  <th>Method:</th>             <td>Least Squares</td>  <th>  F-statistic:       </th>  <td>   3704.</td>  \n",
       "</tr>\n",
       "<tr>\n",
       "  <th>Date:</th>             <td>Wed, 12 Dec 2018</td> <th>  Prob (F-statistic):</th>   <td>  0.00</td>   \n",
       "</tr>\n",
       "<tr>\n",
       "  <th>Time:</th>                 <td>01:24:35</td>     <th>  Log-Likelihood:    </th> <td>-4.5453e+05</td>\n",
       "</tr>\n",
       "<tr>\n",
       "  <th>No. Observations:</th>      <td>110527</td>      <th>  AIC:               </th>  <td>9.091e+05</td> \n",
       "</tr>\n",
       "<tr>\n",
       "  <th>Df Residuals:</th>          <td>110525</td>      <th>  BIC:               </th>  <td>9.091e+05</td> \n",
       "</tr>\n",
       "<tr>\n",
       "  <th>Df Model:</th>              <td>     1</td>      <th>                     </th>      <td> </td>     \n",
       "</tr>\n",
       "<tr>\n",
       "  <th>Covariance Type:</th>      <td>nonrobust</td>    <th>                     </th>      <td> </td>     \n",
       "</tr>\n",
       "</table>\n",
       "<table class=\"simpletable\">\n",
       "<tr>\n",
       "         <td></td>           <th>coef</th>     <th>std err</th>      <th>t</th>      <th>P>|t|</th>  <th>[0.025</th>    <th>0.975]</th>  \n",
       "</tr>\n",
       "<tr>\n",
       "  <th>Intercept</th>      <td>    8.1715</td> <td>    0.050</td> <td>  164.180</td> <td> 0.000</td> <td>    8.074</td> <td>    8.269</td>\n",
       "</tr>\n",
       "<tr>\n",
       "  <th>no_show[T.Yes]</th> <td>    6.7409</td> <td>    0.111</td> <td>   60.861</td> <td> 0.000</td> <td>    6.524</td> <td>    6.958</td>\n",
       "</tr>\n",
       "</table>\n",
       "<table class=\"simpletable\">\n",
       "<tr>\n",
       "  <th>Omnibus:</th>       <td>68842.588</td> <th>  Durbin-Watson:     </th>  <td>   0.905</td> \n",
       "</tr>\n",
       "<tr>\n",
       "  <th>Prob(Omnibus):</th>  <td> 0.000</td>   <th>  Jarque-Bera (JB):  </th> <td>940754.903</td>\n",
       "</tr>\n",
       "<tr>\n",
       "  <th>Skew:</th>           <td> 2.809</td>   <th>  Prob(JB):          </th>  <td>    0.00</td> \n",
       "</tr>\n",
       "<tr>\n",
       "  <th>Kurtosis:</th>       <td>16.142</td>   <th>  Cond. No.          </th>  <td>    2.61</td> \n",
       "</tr>\n",
       "</table><br/><br/>Warnings:<br/>[1] Standard Errors assume that the covariance matrix of the errors is correctly specified."
      ],
      "text/plain": [
       "<class 'statsmodels.iolib.summary.Summary'>\n",
       "\"\"\"\n",
       "                            OLS Regression Results                            \n",
       "==============================================================================\n",
       "Dep. Variable:              wait_time   R-squared:                       0.032\n",
       "Model:                            OLS   Adj. R-squared:                  0.032\n",
       "Method:                 Least Squares   F-statistic:                     3704.\n",
       "Date:                Wed, 12 Dec 2018   Prob (F-statistic):               0.00\n",
       "Time:                        01:24:35   Log-Likelihood:            -4.5453e+05\n",
       "No. Observations:              110527   AIC:                         9.091e+05\n",
       "Df Residuals:                  110525   BIC:                         9.091e+05\n",
       "Df Model:                           1                                         \n",
       "Covariance Type:            nonrobust                                         \n",
       "==================================================================================\n",
       "                     coef    std err          t      P>|t|      [0.025      0.975]\n",
       "----------------------------------------------------------------------------------\n",
       "Intercept          8.1715      0.050    164.180      0.000       8.074       8.269\n",
       "no_show[T.Yes]     6.7409      0.111     60.861      0.000       6.524       6.958\n",
       "==============================================================================\n",
       "Omnibus:                    68842.588   Durbin-Watson:                   0.905\n",
       "Prob(Omnibus):                  0.000   Jarque-Bera (JB):           940754.903\n",
       "Skew:                           2.809   Prob(JB):                         0.00\n",
       "Kurtosis:                      16.142   Cond. No.                         2.61\n",
       "==============================================================================\n",
       "\n",
       "Warnings:\n",
       "[1] Standard Errors assume that the covariance matrix of the errors is correctly specified.\n",
       "\"\"\""
      ]
     },
     "execution_count": 330,
     "metadata": {},
     "output_type": "execute_result"
    }
   ],
   "source": [
    "model2=smf.ols('wait_time ~ no_show', data=data).fit()\n",
    "model2.summary()"
   ]
  },
  {
   "cell_type": "markdown",
   "metadata": {},
   "source": [
    "The longer your wait time, the more likely you are to be a no-show"
   ]
  },
  {
   "cell_type": "markdown",
   "metadata": {},
   "source": [
    "# Part 2 - EDA of Categorical Variables"
   ]
  },
  {
   "cell_type": "code",
   "execution_count": 331,
   "metadata": {},
   "outputs": [
    {
     "data": {
      "text/html": [
       "<div>\n",
       "<style scoped>\n",
       "    .dataframe tbody tr th:only-of-type {\n",
       "        vertical-align: middle;\n",
       "    }\n",
       "\n",
       "    .dataframe tbody tr th {\n",
       "        vertical-align: top;\n",
       "    }\n",
       "\n",
       "    .dataframe thead th {\n",
       "        text-align: right;\n",
       "    }\n",
       "</style>\n",
       "<table border=\"1\" class=\"dataframe\">\n",
       "  <thead>\n",
       "    <tr style=\"text-align: right;\">\n",
       "      <th></th>\n",
       "      <th>PatientId</th>\n",
       "      <th>AppointmentID</th>\n",
       "      <th>Gender</th>\n",
       "      <th>ScheduledDay</th>\n",
       "      <th>AppointmentDay</th>\n",
       "      <th>Age</th>\n",
       "      <th>Neighbourhood</th>\n",
       "      <th>Scholarship</th>\n",
       "      <th>Hypertension</th>\n",
       "      <th>Diabetes</th>\n",
       "      <th>Alcoholism</th>\n",
       "      <th>Handcap</th>\n",
       "      <th>SMS_received</th>\n",
       "      <th>no_show</th>\n",
       "      <th>wait_time</th>\n",
       "      <th>day_week_appt</th>\n",
       "      <th>day_week_sched</th>\n",
       "      <th>hour_of_day_sched</th>\n",
       "    </tr>\n",
       "  </thead>\n",
       "  <tbody>\n",
       "    <tr>\n",
       "      <th>0</th>\n",
       "      <td>2.987250e+13</td>\n",
       "      <td>5642903</td>\n",
       "      <td>F</td>\n",
       "      <td>2016-04-29 18:38:08</td>\n",
       "      <td>2016-04-29</td>\n",
       "      <td>62</td>\n",
       "      <td>JARDIM DA PENHA</td>\n",
       "      <td>0</td>\n",
       "      <td>1</td>\n",
       "      <td>0</td>\n",
       "      <td>0</td>\n",
       "      <td>0</td>\n",
       "      <td>0</td>\n",
       "      <td>No</td>\n",
       "      <td>0.0</td>\n",
       "      <td>Friday</td>\n",
       "      <td>Friday</td>\n",
       "      <td>18</td>\n",
       "    </tr>\n",
       "    <tr>\n",
       "      <th>1</th>\n",
       "      <td>5.589978e+14</td>\n",
       "      <td>5642503</td>\n",
       "      <td>M</td>\n",
       "      <td>2016-04-29 16:08:27</td>\n",
       "      <td>2016-04-29</td>\n",
       "      <td>56</td>\n",
       "      <td>JARDIM DA PENHA</td>\n",
       "      <td>0</td>\n",
       "      <td>0</td>\n",
       "      <td>0</td>\n",
       "      <td>0</td>\n",
       "      <td>0</td>\n",
       "      <td>0</td>\n",
       "      <td>No</td>\n",
       "      <td>0.0</td>\n",
       "      <td>Friday</td>\n",
       "      <td>Friday</td>\n",
       "      <td>16</td>\n",
       "    </tr>\n",
       "    <tr>\n",
       "      <th>2</th>\n",
       "      <td>4.262962e+12</td>\n",
       "      <td>5642549</td>\n",
       "      <td>F</td>\n",
       "      <td>2016-04-29 16:19:04</td>\n",
       "      <td>2016-04-29</td>\n",
       "      <td>62</td>\n",
       "      <td>MATA DA PRAIA</td>\n",
       "      <td>0</td>\n",
       "      <td>0</td>\n",
       "      <td>0</td>\n",
       "      <td>0</td>\n",
       "      <td>0</td>\n",
       "      <td>0</td>\n",
       "      <td>No</td>\n",
       "      <td>0.0</td>\n",
       "      <td>Friday</td>\n",
       "      <td>Friday</td>\n",
       "      <td>16</td>\n",
       "    </tr>\n",
       "    <tr>\n",
       "      <th>3</th>\n",
       "      <td>8.679512e+11</td>\n",
       "      <td>5642828</td>\n",
       "      <td>F</td>\n",
       "      <td>2016-04-29 17:29:31</td>\n",
       "      <td>2016-04-29</td>\n",
       "      <td>8</td>\n",
       "      <td>PONTAL DE CAMBURI</td>\n",
       "      <td>0</td>\n",
       "      <td>0</td>\n",
       "      <td>0</td>\n",
       "      <td>0</td>\n",
       "      <td>0</td>\n",
       "      <td>0</td>\n",
       "      <td>No</td>\n",
       "      <td>0.0</td>\n",
       "      <td>Friday</td>\n",
       "      <td>Friday</td>\n",
       "      <td>17</td>\n",
       "    </tr>\n",
       "    <tr>\n",
       "      <th>4</th>\n",
       "      <td>8.841186e+12</td>\n",
       "      <td>5642494</td>\n",
       "      <td>F</td>\n",
       "      <td>2016-04-29 16:07:23</td>\n",
       "      <td>2016-04-29</td>\n",
       "      <td>56</td>\n",
       "      <td>JARDIM DA PENHA</td>\n",
       "      <td>0</td>\n",
       "      <td>1</td>\n",
       "      <td>1</td>\n",
       "      <td>0</td>\n",
       "      <td>0</td>\n",
       "      <td>0</td>\n",
       "      <td>No</td>\n",
       "      <td>0.0</td>\n",
       "      <td>Friday</td>\n",
       "      <td>Friday</td>\n",
       "      <td>16</td>\n",
       "    </tr>\n",
       "  </tbody>\n",
       "</table>\n",
       "</div>"
      ],
      "text/plain": [
       "      PatientId  AppointmentID Gender        ScheduledDay AppointmentDay  Age  \\\n",
       "0  2.987250e+13        5642903      F 2016-04-29 18:38:08     2016-04-29   62   \n",
       "1  5.589978e+14        5642503      M 2016-04-29 16:08:27     2016-04-29   56   \n",
       "2  4.262962e+12        5642549      F 2016-04-29 16:19:04     2016-04-29   62   \n",
       "3  8.679512e+11        5642828      F 2016-04-29 17:29:31     2016-04-29    8   \n",
       "4  8.841186e+12        5642494      F 2016-04-29 16:07:23     2016-04-29   56   \n",
       "\n",
       "       Neighbourhood  Scholarship  Hypertension  Diabetes  Alcoholism  \\\n",
       "0    JARDIM DA PENHA            0             1         0           0   \n",
       "1    JARDIM DA PENHA            0             0         0           0   \n",
       "2      MATA DA PRAIA            0             0         0           0   \n",
       "3  PONTAL DE CAMBURI            0             0         0           0   \n",
       "4    JARDIM DA PENHA            0             1         1           0   \n",
       "\n",
       "   Handcap  SMS_received no_show  wait_time day_week_appt day_week_sched  \\\n",
       "0        0             0      No        0.0        Friday         Friday   \n",
       "1        0             0      No        0.0        Friday         Friday   \n",
       "2        0             0      No        0.0        Friday         Friday   \n",
       "3        0             0      No        0.0        Friday         Friday   \n",
       "4        0             0      No        0.0        Friday         Friday   \n",
       "\n",
       "   hour_of_day_sched  \n",
       "0                 18  \n",
       "1                 16  \n",
       "2                 16  \n",
       "3                 17  \n",
       "4                 16  "
      ]
     },
     "execution_count": 331,
     "metadata": {},
     "output_type": "execute_result"
    }
   ],
   "source": [
    "data.head()"
   ]
  },
  {
   "cell_type": "code",
   "execution_count": 332,
   "metadata": {},
   "outputs": [],
   "source": [
    "# # Gender: M=0, F=1\n",
    "# data.Gender.replace('M', 0,inplace=True)\n",
    "# data.Gender.replace('F',1,inplace=True)\n",
    "# data.no_show.replace('No',0,inplace=True)\n",
    "# data.no_show.replace('Yes',1,inplace=True)\n"
   ]
  },
  {
   "cell_type": "code",
   "execution_count": 333,
   "metadata": {},
   "outputs": [
    {
     "data": {
      "text/html": [
       "<div>\n",
       "<style scoped>\n",
       "    .dataframe tbody tr th:only-of-type {\n",
       "        vertical-align: middle;\n",
       "    }\n",
       "\n",
       "    .dataframe tbody tr th {\n",
       "        vertical-align: top;\n",
       "    }\n",
       "\n",
       "    .dataframe thead th {\n",
       "        text-align: right;\n",
       "    }\n",
       "</style>\n",
       "<table border=\"1\" class=\"dataframe\">\n",
       "  <thead>\n",
       "    <tr style=\"text-align: right;\">\n",
       "      <th></th>\n",
       "      <th>Gender</th>\n",
       "      <th>Scholarship</th>\n",
       "      <th>Hypertension</th>\n",
       "      <th>Diabetes</th>\n",
       "      <th>Neighbourhood</th>\n",
       "      <th>Alcoholism</th>\n",
       "      <th>Handcap</th>\n",
       "      <th>SMS_received</th>\n",
       "      <th>day_week_appt</th>\n",
       "      <th>day_week_sched</th>\n",
       "      <th>hour_of_day_sched</th>\n",
       "      <th>no_show</th>\n",
       "    </tr>\n",
       "  </thead>\n",
       "  <tbody>\n",
       "    <tr>\n",
       "      <th>0</th>\n",
       "      <td>F</td>\n",
       "      <td>0</td>\n",
       "      <td>1</td>\n",
       "      <td>0</td>\n",
       "      <td>JARDIM DA PENHA</td>\n",
       "      <td>0</td>\n",
       "      <td>0</td>\n",
       "      <td>0</td>\n",
       "      <td>Friday</td>\n",
       "      <td>Friday</td>\n",
       "      <td>18</td>\n",
       "      <td>No</td>\n",
       "    </tr>\n",
       "    <tr>\n",
       "      <th>1</th>\n",
       "      <td>M</td>\n",
       "      <td>0</td>\n",
       "      <td>0</td>\n",
       "      <td>0</td>\n",
       "      <td>JARDIM DA PENHA</td>\n",
       "      <td>0</td>\n",
       "      <td>0</td>\n",
       "      <td>0</td>\n",
       "      <td>Friday</td>\n",
       "      <td>Friday</td>\n",
       "      <td>16</td>\n",
       "      <td>No</td>\n",
       "    </tr>\n",
       "    <tr>\n",
       "      <th>2</th>\n",
       "      <td>F</td>\n",
       "      <td>0</td>\n",
       "      <td>0</td>\n",
       "      <td>0</td>\n",
       "      <td>MATA DA PRAIA</td>\n",
       "      <td>0</td>\n",
       "      <td>0</td>\n",
       "      <td>0</td>\n",
       "      <td>Friday</td>\n",
       "      <td>Friday</td>\n",
       "      <td>16</td>\n",
       "      <td>No</td>\n",
       "    </tr>\n",
       "    <tr>\n",
       "      <th>3</th>\n",
       "      <td>F</td>\n",
       "      <td>0</td>\n",
       "      <td>0</td>\n",
       "      <td>0</td>\n",
       "      <td>PONTAL DE CAMBURI</td>\n",
       "      <td>0</td>\n",
       "      <td>0</td>\n",
       "      <td>0</td>\n",
       "      <td>Friday</td>\n",
       "      <td>Friday</td>\n",
       "      <td>17</td>\n",
       "      <td>No</td>\n",
       "    </tr>\n",
       "    <tr>\n",
       "      <th>4</th>\n",
       "      <td>F</td>\n",
       "      <td>0</td>\n",
       "      <td>1</td>\n",
       "      <td>1</td>\n",
       "      <td>JARDIM DA PENHA</td>\n",
       "      <td>0</td>\n",
       "      <td>0</td>\n",
       "      <td>0</td>\n",
       "      <td>Friday</td>\n",
       "      <td>Friday</td>\n",
       "      <td>16</td>\n",
       "      <td>No</td>\n",
       "    </tr>\n",
       "  </tbody>\n",
       "</table>\n",
       "</div>"
      ],
      "text/plain": [
       "  Gender  Scholarship  Hypertension  Diabetes      Neighbourhood  Alcoholism  \\\n",
       "0      F            0             1         0    JARDIM DA PENHA           0   \n",
       "1      M            0             0         0    JARDIM DA PENHA           0   \n",
       "2      F            0             0         0      MATA DA PRAIA           0   \n",
       "3      F            0             0         0  PONTAL DE CAMBURI           0   \n",
       "4      F            0             1         1    JARDIM DA PENHA           0   \n",
       "\n",
       "   Handcap  SMS_received day_week_appt day_week_sched  hour_of_day_sched  \\\n",
       "0        0             0        Friday         Friday                 18   \n",
       "1        0             0        Friday         Friday                 16   \n",
       "2        0             0        Friday         Friday                 16   \n",
       "3        0             0        Friday         Friday                 17   \n",
       "4        0             0        Friday         Friday                 16   \n",
       "\n",
       "  no_show  \n",
       "0      No  \n",
       "1      No  \n",
       "2      No  \n",
       "3      No  \n",
       "4      No  "
      ]
     },
     "execution_count": 333,
     "metadata": {},
     "output_type": "execute_result"
    }
   ],
   "source": [
    "data_cat=data.filter(['Gender',\n",
    "                      'Scholarship',\n",
    "                      'Hypertension',\n",
    "                      'Diabetes',\n",
    "                      'Neighbourhood',\n",
    "                      'Alcoholism',\n",
    "                      'Handcap',\n",
    "                      'SMS_received',\n",
    "                      'day_week_appt',\n",
    "                      'day_week_sched',\n",
    "                      'hour_of_day_sched',\n",
    "                      'no_show'])\n",
    "data_cat.head()"
   ]
  },
  {
   "cell_type": "code",
   "execution_count": 337,
   "metadata": {},
   "outputs": [
    {
     "name": "stdout",
     "output_type": "stream",
     "text": [
      "chi2 =  1.8534369792394627\n",
      "p-val =  0.17338418189785987\n",
      "degree of freedom =  1\n",
      "Expected:\n"
     ]
    },
    {
     "data": {
      "image/png": "[encoded data removed]",
      "text/plain": [
       "<Figure size 432x288 with 4 Axes>"
      ]
     },
     "metadata": {},
     "output_type": "display_data"
    }
   ],
   "source": [
    "def heat_comp( series):\n",
    "    \n",
    "    fig, axs = plt.subplots(2)\n",
    "    plt.tight_layout(pad=5, w_pad=2, h_pad=3.0)\n",
    "    \n",
    "    ct=pd.crosstab(data_cat.no_show, data_cat['{}'.format(series)])\n",
    "    sns.heatmap(ct,annot=True,ax=axs[0]).set_title('{} Observed'.format(series))\n",
    "    from scipy.stats import chi2_contingency\n",
    "    chi2, p, dof, ex = chi2_contingency(ct)\n",
    "    print(\"chi2 = \", chi2)\n",
    "    print(\"p-val = \", p)\n",
    "    print(\"degree of freedom = \",dof)\n",
    "    print(\"Expected:\")\n",
    "    pd.DataFrame(ex)\n",
    "    sns.heatmap(ex,annot=True, ax=axs[1]).set_title('Expected')\n",
    "heat_comp('Gender')"
   ]
  },
  {
   "cell_type": "markdown",
   "metadata": {},
   "source": [
    "No significant difference between observed and expected counts for gender by no-show status"
   ]
  },
  {
   "cell_type": "code",
   "execution_count": 338,
   "metadata": {},
   "outputs": [
    {
     "name": "stdout",
     "output_type": "stream",
     "text": [
      "chi2 =  93.57719729532182\n",
      "p-val =  3.906624913845394e-22\n",
      "degree of freedom =  1\n",
      "Expected:\n"
     ]
    },
    {
     "data": {
      "image/png": "[encoded data removed]",
      "text/plain": [
       "<Figure size 432x288 with 4 Axes>"
      ]
     },
     "metadata": {},
     "output_type": "display_data"
    }
   ],
   "source": [
    "heat_comp('Scholarship')"
   ]
  },
  {
   "cell_type": "markdown",
   "metadata": {},
   "source": [
    "Significantly more no-shows for patients eligible for scholarship (similar to welfare eligibility) "
   ]
  },
  {
   "cell_type": "code",
   "execution_count": 339,
   "metadata": {},
   "outputs": [
    {
     "name": "stdout",
     "output_type": "stream",
     "text": [
      "chi2 =  140.6514430050126\n",
      "p-val =  1.9176109238263203e-32\n",
      "degree of freedom =  1\n",
      "Expected:\n"
     ]
    },
    {
     "data": {
      "image/png": "[encoded data removed]",
      "text/plain": [
       "<Figure size 432x288 with 4 Axes>"
      ]
     },
     "metadata": {},
     "output_type": "display_data"
    }
   ],
   "source": [
    "heat_comp('Hypertension')"
   ]
  },
  {
   "cell_type": "markdown",
   "metadata": {},
   "source": [
    "Those with hypertension more likely to go to appt. "
   ]
  },
  {
   "cell_type": "code",
   "execution_count": 340,
   "metadata": {},
   "outputs": [
    {
     "name": "stdout",
     "output_type": "stream",
     "text": [
      "chi2 =  25.322609491076037\n",
      "p-val =  4.849904575233736e-07\n",
      "degree of freedom =  1\n",
      "Expected:\n"
     ]
    },
    {
     "data": {
      "image/png": "[encoded data removed]",
      "text/plain": [
       "<Figure size 432x288 with 4 Axes>"
      ]
     },
     "metadata": {},
     "output_type": "display_data"
    }
   ],
   "source": [
    "heat_comp('Diabetes')"
   ]
  },
  {
   "cell_type": "markdown",
   "metadata": {},
   "source": [
    "Those with diabetes more likely to show up to appt."
   ]
  },
  {
   "cell_type": "code",
   "execution_count": 341,
   "metadata": {},
   "outputs": [
    {
     "name": "stdout",
     "output_type": "stream",
     "text": [
      "chi2 =  0.0018796207361593989\n",
      "p-val =  0.9654188731603915\n",
      "degree of freedom =  1\n",
      "Expected:\n"
     ]
    },
    {
     "data": {
      "image/png": "[encoded data removed]",
      "text/plain": [
       "<Figure size 432x288 with 4 Axes>"
      ]
     },
     "metadata": {},
     "output_type": "display_data"
    }
   ],
   "source": [
    "heat_comp('Alcoholism')"
   ]
  },
  {
   "cell_type": "markdown",
   "metadata": {},
   "source": [
    "No significant difference in no-show rates based on alcoholism"
   ]
  },
  {
   "cell_type": "code",
   "execution_count": 342,
   "metadata": {},
   "outputs": [
    {
     "name": "stdout",
     "output_type": "stream",
     "text": [
      "chi2 =  7.034583708655519\n",
      "p-val =  0.1340718823629825\n",
      "degree of freedom =  4\n",
      "Expected:\n"
     ]
    },
    {
     "data": {
      "image/png": "[encoded data removed]",
      "text/plain": [
       "<Figure size 432x288 with 4 Axes>"
      ]
     },
     "metadata": {},
     "output_type": "display_data"
    }
   ],
   "source": [
    "heat_comp('Handcap')"
   ]
  },
  {
   "cell_type": "markdown",
   "metadata": {},
   "source": [
    "No significant difference between observed and expected values in no-show rate based on handicap status"
   ]
  },
  {
   "cell_type": "code",
   "execution_count": 343,
   "metadata": {},
   "outputs": [
    {
     "name": "stdout",
     "output_type": "stream",
     "text": [
      "chi2 =  1766.0676572637585\n",
      "p-val =  0.0\n",
      "degree of freedom =  1\n",
      "Expected:\n"
     ]
    },
    {
     "data": {
      "image/png": "[encoded data removed]",
      "text/plain": [
       "<Figure size 432x288 with 4 Axes>"
      ]
     },
     "metadata": {},
     "output_type": "display_data"
    }
   ],
   "source": [
    "heat_comp('SMS_received')"
   ]
  },
  {
   "cell_type": "markdown",
   "metadata": {},
   "source": [
    "Significant difference between observed and expected counts of no-shows based on SMS-received status. Infer that those who received SMS are significantly less likely to show up"
   ]
  },
  {
   "cell_type": "code",
   "execution_count": 344,
   "metadata": {},
   "outputs": [
    {
     "name": "stdout",
     "output_type": "stream",
     "text": [
      "chi2 =  491.92786949651384\n",
      "p-val =  1.5424359262217237e-60\n",
      "degree of freedom =  80\n",
      "Expected:\n"
     ]
    },
    {
     "data": {
      "image/png": "[encoded data removed]",
      "text/plain": [
       "<Figure size 432x288 with 4 Axes>"
      ]
     },
     "metadata": {},
     "output_type": "display_data"
    }
   ],
   "source": [
    "heat_comp('Neighbourhood')"
   ]
  },
  {
   "cell_type": "code",
   "execution_count": 345,
   "metadata": {},
   "outputs": [
    {
     "name": "stdout",
     "output_type": "stream",
     "text": [
      "chi2 =  27.468510174356098\n",
      "p-val =  4.622523600571694e-05\n",
      "degree of freedom =  5\n",
      "Expected:\n"
     ]
    },
    {
     "data": {
      "image/png": "[encoded data removed]",
      "text/plain": [
       "<Figure size 432x288 with 4 Axes>"
      ]
     },
     "metadata": {},
     "output_type": "display_data"
    }
   ],
   "source": [
    "heat_comp('day_week_appt')"
   ]
  },
  {
   "cell_type": "code",
   "execution_count": 346,
   "metadata": {},
   "outputs": [
    {
     "name": "stdout",
     "output_type": "stream",
     "text": [
      "chi2 =  9.029456654071677\n",
      "p-val =  0.10789498364057512\n",
      "degree of freedom =  5\n",
      "Expected:\n"
     ]
    },
    {
     "data": {
      "image/png": "[encoded data removed]",
      "text/plain": [
       "<Figure size 432x288 with 4 Axes>"
      ]
     },
     "metadata": {},
     "output_type": "display_data"
    }
   ],
   "source": [
    "heat_comp('day_week_sched')"
   ]
  },
  {
   "cell_type": "code",
   "execution_count": 347,
   "metadata": {},
   "outputs": [
    {
     "name": "stdout",
     "output_type": "stream",
     "text": [
      "chi2 =  576.4171673624799\n",
      "p-val =  3.61772954940658e-113\n",
      "degree of freedom =  15\n",
      "Expected:\n"
     ]
    },
    {
     "data": {
      "image/png": "[encoded data removed]",
      "text/plain": [
       "<Figure size 432x288 with 4 Axes>"
      ]
     },
     "metadata": {},
     "output_type": "display_data"
    }
   ],
   "source": [
    "heat_comp('hour_of_day_sched')"
   ]
  },
  {
   "cell_type": "markdown",
   "metadata": {},
   "source": [
    "# Part 3 - Dimensionality Reduction using PCA"
   ]
  },
  {
   "cell_type": "code",
   "execution_count": 473,
   "metadata": {},
   "outputs": [
    {
     "data": {
      "text/html": [
       "<div>\n",
       "<style scoped>\n",
       "    .dataframe tbody tr th:only-of-type {\n",
       "        vertical-align: middle;\n",
       "    }\n",
       "\n",
       "    .dataframe tbody tr th {\n",
       "        vertical-align: top;\n",
       "    }\n",
       "\n",
       "    .dataframe thead th {\n",
       "        text-align: right;\n",
       "    }\n",
       "</style>\n",
       "<table border=\"1\" class=\"dataframe\">\n",
       "  <thead>\n",
       "    <tr style=\"text-align: right;\">\n",
       "      <th></th>\n",
       "      <th>PatientId</th>\n",
       "      <th>AppointmentID</th>\n",
       "      <th>Gender</th>\n",
       "      <th>ScheduledDay</th>\n",
       "      <th>AppointmentDay</th>\n",
       "      <th>Age</th>\n",
       "      <th>Neighbourhood</th>\n",
       "      <th>Scholarship</th>\n",
       "      <th>Hypertension</th>\n",
       "      <th>Diabetes</th>\n",
       "      <th>Alcoholism</th>\n",
       "      <th>Handcap</th>\n",
       "      <th>SMS_received</th>\n",
       "      <th>no_show</th>\n",
       "      <th>wait_time</th>\n",
       "      <th>day_week_appt</th>\n",
       "      <th>day_week_sched</th>\n",
       "      <th>hour_of_day_sched</th>\n",
       "    </tr>\n",
       "  </thead>\n",
       "  <tbody>\n",
       "    <tr>\n",
       "      <th>0</th>\n",
       "      <td>2.987250e+13</td>\n",
       "      <td>5642903</td>\n",
       "      <td>1</td>\n",
       "      <td>2016-04-29 18:38:08</td>\n",
       "      <td>2016-04-29</td>\n",
       "      <td>62</td>\n",
       "      <td>1</td>\n",
       "      <td>0</td>\n",
       "      <td>1</td>\n",
       "      <td>0</td>\n",
       "      <td>0</td>\n",
       "      <td>0</td>\n",
       "      <td>0</td>\n",
       "      <td>0</td>\n",
       "      <td>0.0</td>\n",
       "      <td>5</td>\n",
       "      <td>5</td>\n",
       "      <td>18</td>\n",
       "    </tr>\n",
       "    <tr>\n",
       "      <th>1</th>\n",
       "      <td>5.589978e+14</td>\n",
       "      <td>5642503</td>\n",
       "      <td>0</td>\n",
       "      <td>2016-04-29 16:08:27</td>\n",
       "      <td>2016-04-29</td>\n",
       "      <td>56</td>\n",
       "      <td>1</td>\n",
       "      <td>0</td>\n",
       "      <td>0</td>\n",
       "      <td>0</td>\n",
       "      <td>0</td>\n",
       "      <td>0</td>\n",
       "      <td>0</td>\n",
       "      <td>0</td>\n",
       "      <td>0.0</td>\n",
       "      <td>5</td>\n",
       "      <td>5</td>\n",
       "      <td>16</td>\n",
       "    </tr>\n",
       "    <tr>\n",
       "      <th>2</th>\n",
       "      <td>4.262962e+12</td>\n",
       "      <td>5642549</td>\n",
       "      <td>1</td>\n",
       "      <td>2016-04-29 16:19:04</td>\n",
       "      <td>2016-04-29</td>\n",
       "      <td>62</td>\n",
       "      <td>2</td>\n",
       "      <td>0</td>\n",
       "      <td>0</td>\n",
       "      <td>0</td>\n",
       "      <td>0</td>\n",
       "      <td>0</td>\n",
       "      <td>0</td>\n",
       "      <td>0</td>\n",
       "      <td>0.0</td>\n",
       "      <td>5</td>\n",
       "      <td>5</td>\n",
       "      <td>16</td>\n",
       "    </tr>\n",
       "    <tr>\n",
       "      <th>3</th>\n",
       "      <td>8.679512e+11</td>\n",
       "      <td>5642828</td>\n",
       "      <td>1</td>\n",
       "      <td>2016-04-29 17:29:31</td>\n",
       "      <td>2016-04-29</td>\n",
       "      <td>8</td>\n",
       "      <td>3</td>\n",
       "      <td>0</td>\n",
       "      <td>0</td>\n",
       "      <td>0</td>\n",
       "      <td>0</td>\n",
       "      <td>0</td>\n",
       "      <td>0</td>\n",
       "      <td>0</td>\n",
       "      <td>0.0</td>\n",
       "      <td>5</td>\n",
       "      <td>5</td>\n",
       "      <td>17</td>\n",
       "    </tr>\n",
       "    <tr>\n",
       "      <th>4</th>\n",
       "      <td>8.841186e+12</td>\n",
       "      <td>5642494</td>\n",
       "      <td>1</td>\n",
       "      <td>2016-04-29 16:07:23</td>\n",
       "      <td>2016-04-29</td>\n",
       "      <td>56</td>\n",
       "      <td>1</td>\n",
       "      <td>0</td>\n",
       "      <td>1</td>\n",
       "      <td>1</td>\n",
       "      <td>0</td>\n",
       "      <td>0</td>\n",
       "      <td>0</td>\n",
       "      <td>0</td>\n",
       "      <td>0.0</td>\n",
       "      <td>5</td>\n",
       "      <td>5</td>\n",
       "      <td>16</td>\n",
       "    </tr>\n",
       "  </tbody>\n",
       "</table>\n",
       "</div>"
      ],
      "text/plain": [
       "      PatientId  AppointmentID  Gender        ScheduledDay AppointmentDay  \\\n",
       "0  2.987250e+13        5642903       1 2016-04-29 18:38:08     2016-04-29   \n",
       "1  5.589978e+14        5642503       0 2016-04-29 16:08:27     2016-04-29   \n",
       "2  4.262962e+12        5642549       1 2016-04-29 16:19:04     2016-04-29   \n",
       "3  8.679512e+11        5642828       1 2016-04-29 17:29:31     2016-04-29   \n",
       "4  8.841186e+12        5642494       1 2016-04-29 16:07:23     2016-04-29   \n",
       "\n",
       "   Age  Neighbourhood  Scholarship  Hypertension  Diabetes  Alcoholism  \\\n",
       "0   62              1            0             1         0           0   \n",
       "1   56              1            0             0         0           0   \n",
       "2   62              2            0             0         0           0   \n",
       "3    8              3            0             0         0           0   \n",
       "4   56              1            0             1         1           0   \n",
       "\n",
       "   Handcap  SMS_received  no_show  wait_time  day_week_appt  day_week_sched  \\\n",
       "0        0             0        0        0.0              5               5   \n",
       "1        0             0        0        0.0              5               5   \n",
       "2        0             0        0        0.0              5               5   \n",
       "3        0             0        0        0.0              5               5   \n",
       "4        0             0        0        0.0              5               5   \n",
       "\n",
       "   hour_of_day_sched  \n",
       "0                 18  \n",
       "1                 16  \n",
       "2                 16  \n",
       "3                 17  \n",
       "4                 16  "
      ]
     },
     "execution_count": 473,
     "metadata": {},
     "output_type": "execute_result"
    }
   ],
   "source": [
    "data.head()"
   ]
  },
  {
   "cell_type": "code",
   "execution_count": 474,
   "metadata": {},
   "outputs": [
    {
     "name": "stdout",
     "output_type": "stream",
     "text": [
      "[5 2 1 3 4 6]\n",
      "[5 3 2 4 1 6]\n"
     ]
    }
   ],
   "source": [
    "print(data.day_week_appt.unique())\n",
    "print(data.day_week_sched.unique())\n"
   ]
  },
  {
   "cell_type": "code",
   "execution_count": 476,
   "metadata": {},
   "outputs": [],
   "source": [
    "# Numerical assignment of day of week: Mon=1, Tues=2, Wed=3, thurs=4, fri=5, sat=6\n",
    "\n",
    "data.day_week_appt.replace({'Monday':1,'Tuesday':2,'Wednesday':3,'Thursday':4,'Friday':5,'Saturday':6},\n",
    "                          inplace=True)\n",
    "data.day_week_sched.replace({'Monday':1,'Tuesday':2,'Wednesday':3,'Thursday':4,'Friday':5,'Saturday':6},\n",
    "                           inplace=True)\n"
   ]
  },
  {
   "cell_type": "code",
   "execution_count": 470,
   "metadata": {},
   "outputs": [],
   "source": [
    "# # Gender: M=0, F=1\n",
    "# No-show: 'No'=0, 'Yes'=1\n",
    "\n",
    "data.Gender.replace('M', 0,inplace=True)\n",
    "data.Gender.replace('F',1,inplace=True)\n",
    "data.no_show.replace('No',0,inplace=True)\n",
    "data.no_show.replace('Yes',1,inplace=True)"
   ]
  },
  {
   "cell_type": "code",
   "execution_count": 477,
   "metadata": {},
   "outputs": [],
   "source": [
    "# Make list of Neighbourhood values assigned to numerical values\n",
    "count=1\n",
    "neigh_dict={}\n",
    "for i in data.Neighbourhood.unique():\n",
    "    neigh_dict[i]=count\n",
    "    count+=1\n",
    "# Assign them in \"data\" dataframe\n",
    "data.Neighbourhood.replace(neigh_dict, inplace=True)"
   ]
  },
  {
   "cell_type": "code",
   "execution_count": 478,
   "metadata": {},
   "outputs": [
    {
     "data": {
      "text/html": [
       "<div>\n",
       "<style scoped>\n",
       "    .dataframe tbody tr th:only-of-type {\n",
       "        vertical-align: middle;\n",
       "    }\n",
       "\n",
       "    .dataframe tbody tr th {\n",
       "        vertical-align: top;\n",
       "    }\n",
       "\n",
       "    .dataframe thead th {\n",
       "        text-align: right;\n",
       "    }\n",
       "</style>\n",
       "<table border=\"1\" class=\"dataframe\">\n",
       "  <thead>\n",
       "    <tr style=\"text-align: right;\">\n",
       "      <th></th>\n",
       "      <th>PatientId</th>\n",
       "      <th>AppointmentID</th>\n",
       "      <th>Gender</th>\n",
       "      <th>ScheduledDay</th>\n",
       "      <th>AppointmentDay</th>\n",
       "      <th>Age</th>\n",
       "      <th>Neighbourhood</th>\n",
       "      <th>Scholarship</th>\n",
       "      <th>Hypertension</th>\n",
       "      <th>Diabetes</th>\n",
       "      <th>Alcoholism</th>\n",
       "      <th>Handcap</th>\n",
       "      <th>SMS_received</th>\n",
       "      <th>no_show</th>\n",
       "      <th>wait_time</th>\n",
       "      <th>day_week_appt</th>\n",
       "      <th>day_week_sched</th>\n",
       "      <th>hour_of_day_sched</th>\n",
       "    </tr>\n",
       "  </thead>\n",
       "  <tbody>\n",
       "    <tr>\n",
       "      <th>0</th>\n",
       "      <td>2.987250e+13</td>\n",
       "      <td>5642903</td>\n",
       "      <td>1</td>\n",
       "      <td>2016-04-29 18:38:08</td>\n",
       "      <td>2016-04-29</td>\n",
       "      <td>62</td>\n",
       "      <td>1</td>\n",
       "      <td>0</td>\n",
       "      <td>1</td>\n",
       "      <td>0</td>\n",
       "      <td>0</td>\n",
       "      <td>0</td>\n",
       "      <td>0</td>\n",
       "      <td>0</td>\n",
       "      <td>0.0</td>\n",
       "      <td>5</td>\n",
       "      <td>5</td>\n",
       "      <td>18</td>\n",
       "    </tr>\n",
       "    <tr>\n",
       "      <th>1</th>\n",
       "      <td>5.589978e+14</td>\n",
       "      <td>5642503</td>\n",
       "      <td>0</td>\n",
       "      <td>2016-04-29 16:08:27</td>\n",
       "      <td>2016-04-29</td>\n",
       "      <td>56</td>\n",
       "      <td>1</td>\n",
       "      <td>0</td>\n",
       "      <td>0</td>\n",
       "      <td>0</td>\n",
       "      <td>0</td>\n",
       "      <td>0</td>\n",
       "      <td>0</td>\n",
       "      <td>0</td>\n",
       "      <td>0.0</td>\n",
       "      <td>5</td>\n",
       "      <td>5</td>\n",
       "      <td>16</td>\n",
       "    </tr>\n",
       "    <tr>\n",
       "      <th>2</th>\n",
       "      <td>4.262962e+12</td>\n",
       "      <td>5642549</td>\n",
       "      <td>1</td>\n",
       "      <td>2016-04-29 16:19:04</td>\n",
       "      <td>2016-04-29</td>\n",
       "      <td>62</td>\n",
       "      <td>2</td>\n",
       "      <td>0</td>\n",
       "      <td>0</td>\n",
       "      <td>0</td>\n",
       "      <td>0</td>\n",
       "      <td>0</td>\n",
       "      <td>0</td>\n",
       "      <td>0</td>\n",
       "      <td>0.0</td>\n",
       "      <td>5</td>\n",
       "      <td>5</td>\n",
       "      <td>16</td>\n",
       "    </tr>\n",
       "    <tr>\n",
       "      <th>3</th>\n",
       "      <td>8.679512e+11</td>\n",
       "      <td>5642828</td>\n",
       "      <td>1</td>\n",
       "      <td>2016-04-29 17:29:31</td>\n",
       "      <td>2016-04-29</td>\n",
       "      <td>8</td>\n",
       "      <td>3</td>\n",
       "      <td>0</td>\n",
       "      <td>0</td>\n",
       "      <td>0</td>\n",
       "      <td>0</td>\n",
       "      <td>0</td>\n",
       "      <td>0</td>\n",
       "      <td>0</td>\n",
       "      <td>0.0</td>\n",
       "      <td>5</td>\n",
       "      <td>5</td>\n",
       "      <td>17</td>\n",
       "    </tr>\n",
       "    <tr>\n",
       "      <th>4</th>\n",
       "      <td>8.841186e+12</td>\n",
       "      <td>5642494</td>\n",
       "      <td>1</td>\n",
       "      <td>2016-04-29 16:07:23</td>\n",
       "      <td>2016-04-29</td>\n",
       "      <td>56</td>\n",
       "      <td>1</td>\n",
       "      <td>0</td>\n",
       "      <td>1</td>\n",
       "      <td>1</td>\n",
       "      <td>0</td>\n",
       "      <td>0</td>\n",
       "      <td>0</td>\n",
       "      <td>0</td>\n",
       "      <td>0.0</td>\n",
       "      <td>5</td>\n",
       "      <td>5</td>\n",
       "      <td>16</td>\n",
       "    </tr>\n",
       "  </tbody>\n",
       "</table>\n",
       "</div>"
      ],
      "text/plain": [
       "      PatientId  AppointmentID  Gender        ScheduledDay AppointmentDay  \\\n",
       "0  2.987250e+13        5642903       1 2016-04-29 18:38:08     2016-04-29   \n",
       "1  5.589978e+14        5642503       0 2016-04-29 16:08:27     2016-04-29   \n",
       "2  4.262962e+12        5642549       1 2016-04-29 16:19:04     2016-04-29   \n",
       "3  8.679512e+11        5642828       1 2016-04-29 17:29:31     2016-04-29   \n",
       "4  8.841186e+12        5642494       1 2016-04-29 16:07:23     2016-04-29   \n",
       "\n",
       "   Age  Neighbourhood  Scholarship  Hypertension  Diabetes  Alcoholism  \\\n",
       "0   62              1            0             1         0           0   \n",
       "1   56              1            0             0         0           0   \n",
       "2   62              2            0             0         0           0   \n",
       "3    8              3            0             0         0           0   \n",
       "4   56              1            0             1         1           0   \n",
       "\n",
       "   Handcap  SMS_received  no_show  wait_time  day_week_appt  day_week_sched  \\\n",
       "0        0             0        0        0.0              5               5   \n",
       "1        0             0        0        0.0              5               5   \n",
       "2        0             0        0        0.0              5               5   \n",
       "3        0             0        0        0.0              5               5   \n",
       "4        0             0        0        0.0              5               5   \n",
       "\n",
       "   hour_of_day_sched  \n",
       "0                 18  \n",
       "1                 16  \n",
       "2                 16  \n",
       "3                 17  \n",
       "4                 16  "
      ]
     },
     "execution_count": 478,
     "metadata": {},
     "output_type": "execute_result"
    }
   ],
   "source": [
    "data.head()"
   ]
  },
  {
   "cell_type": "code",
   "execution_count": 585,
   "metadata": {},
   "outputs": [
    {
     "data": {
      "text/html": [
       "<div>\n",
       "<style scoped>\n",
       "    .dataframe tbody tr th:only-of-type {\n",
       "        vertical-align: middle;\n",
       "    }\n",
       "\n",
       "    .dataframe tbody tr th {\n",
       "        vertical-align: top;\n",
       "    }\n",
       "\n",
       "    .dataframe thead th {\n",
       "        text-align: right;\n",
       "    }\n",
       "</style>\n",
       "<table border=\"1\" class=\"dataframe\">\n",
       "  <thead>\n",
       "    <tr style=\"text-align: right;\">\n",
       "      <th></th>\n",
       "      <th>0</th>\n",
       "      <th>1</th>\n",
       "      <th>2</th>\n",
       "      <th>3</th>\n",
       "      <th>4</th>\n",
       "      <th>5</th>\n",
       "      <th>6</th>\n",
       "      <th>7</th>\n",
       "      <th>8</th>\n",
       "      <th>9</th>\n",
       "      <th>10</th>\n",
       "      <th>11</th>\n",
       "      <th>12</th>\n",
       "    </tr>\n",
       "  </thead>\n",
       "  <tbody>\n",
       "    <tr>\n",
       "      <th>0</th>\n",
       "      <td>0.733837</td>\n",
       "      <td>-0.330112</td>\n",
       "      <td>2.017378</td>\n",
       "      <td>-0.278261</td>\n",
       "      <td>-1.544387</td>\n",
       "      <td>-0.177068</td>\n",
       "      <td>-0.137722</td>\n",
       "      <td>-0.687612</td>\n",
       "      <td>1.077932</td>\n",
       "      <td>-0.634346</td>\n",
       "      <td>1.561428</td>\n",
       "      <td>1.558233</td>\n",
       "      <td>2.246608</td>\n",
       "    </tr>\n",
       "    <tr>\n",
       "      <th>1</th>\n",
       "      <td>-1.362701</td>\n",
       "      <td>-0.330112</td>\n",
       "      <td>-0.495693</td>\n",
       "      <td>-0.278261</td>\n",
       "      <td>-1.544387</td>\n",
       "      <td>-0.177068</td>\n",
       "      <td>-0.137722</td>\n",
       "      <td>-0.687612</td>\n",
       "      <td>0.818306</td>\n",
       "      <td>-0.634346</td>\n",
       "      <td>1.561428</td>\n",
       "      <td>1.558233</td>\n",
       "      <td>1.624751</td>\n",
       "    </tr>\n",
       "    <tr>\n",
       "      <th>2</th>\n",
       "      <td>0.733837</td>\n",
       "      <td>-0.330112</td>\n",
       "      <td>-0.495693</td>\n",
       "      <td>-0.278261</td>\n",
       "      <td>-1.493679</td>\n",
       "      <td>-0.177068</td>\n",
       "      <td>-0.137722</td>\n",
       "      <td>-0.687612</td>\n",
       "      <td>1.077932</td>\n",
       "      <td>-0.634346</td>\n",
       "      <td>1.561428</td>\n",
       "      <td>1.558233</td>\n",
       "      <td>1.624751</td>\n",
       "    </tr>\n",
       "    <tr>\n",
       "      <th>3</th>\n",
       "      <td>0.733837</td>\n",
       "      <td>-0.330112</td>\n",
       "      <td>-0.495693</td>\n",
       "      <td>-0.278261</td>\n",
       "      <td>-1.442972</td>\n",
       "      <td>-0.177068</td>\n",
       "      <td>-0.137722</td>\n",
       "      <td>-0.687612</td>\n",
       "      <td>-1.258708</td>\n",
       "      <td>-0.634346</td>\n",
       "      <td>1.561428</td>\n",
       "      <td>1.558233</td>\n",
       "      <td>1.935680</td>\n",
       "    </tr>\n",
       "    <tr>\n",
       "      <th>4</th>\n",
       "      <td>0.733837</td>\n",
       "      <td>-0.330112</td>\n",
       "      <td>2.017378</td>\n",
       "      <td>3.593747</td>\n",
       "      <td>-1.544387</td>\n",
       "      <td>-0.177068</td>\n",
       "      <td>-0.137722</td>\n",
       "      <td>-0.687612</td>\n",
       "      <td>0.818306</td>\n",
       "      <td>-0.634346</td>\n",
       "      <td>1.561428</td>\n",
       "      <td>1.558233</td>\n",
       "      <td>1.624751</td>\n",
       "    </tr>\n",
       "  </tbody>\n",
       "</table>\n",
       "</div>"
      ],
      "text/plain": [
       "         0         1         2         3         4         5         6   \\\n",
       "0  0.733837 -0.330112  2.017378 -0.278261 -1.544387 -0.177068 -0.137722   \n",
       "1 -1.362701 -0.330112 -0.495693 -0.278261 -1.544387 -0.177068 -0.137722   \n",
       "2  0.733837 -0.330112 -0.495693 -0.278261 -1.493679 -0.177068 -0.137722   \n",
       "3  0.733837 -0.330112 -0.495693 -0.278261 -1.442972 -0.177068 -0.137722   \n",
       "4  0.733837 -0.330112  2.017378  3.593747 -1.544387 -0.177068 -0.137722   \n",
       "\n",
       "         7         8         9         10        11        12  \n",
       "0 -0.687612  1.077932 -0.634346  1.561428  1.558233  2.246608  \n",
       "1 -0.687612  0.818306 -0.634346  1.561428  1.558233  1.624751  \n",
       "2 -0.687612  1.077932 -0.634346  1.561428  1.558233  1.624751  \n",
       "3 -0.687612 -1.258708 -0.634346  1.561428  1.558233  1.935680  \n",
       "4 -0.687612  0.818306 -0.634346  1.561428  1.558233  1.624751  "
      ]
     },
     "execution_count": 585,
     "metadata": {},
     "output_type": "execute_result"
    }
   ],
   "source": [
    "# # Gender: M=0, F=1\n",
    "# No-show: 'No'=0, 'Yes'=1\n",
    "import sklearn.preprocessing as skp\n",
    "\n",
    "pca_df=data.copy()\n",
    "\n",
    "pca_df=pca_df.filter(['Gender',\n",
    "                      'Scholarship',\n",
    "                      'Hypertension',\n",
    "                      'Diabetes',\n",
    "                      'Neighbourhood',\n",
    "                      'Alcoholism',\n",
    "                      'Handcap',\n",
    "                      'SMS_received',\n",
    "                      'Age',\n",
    "                      'wait_time',\n",
    "                      'day_week_appt',\n",
    "                      'day_week_sched',\n",
    "                      'hour_of_day_sched',\n",
    "                      'no_show'])\n",
    "pca_df1=pca_df.iloc[:,:13]\n",
    "pca_df1=skp.scale(pca_df1.astype(np.float))\n",
    "pca_df1=pd.DataFrame(pca_df1)\n",
    "pca_df1.head()"
   ]
  },
  {
   "cell_type": "code",
   "execution_count": 586,
   "metadata": {},
   "outputs": [],
   "source": [
    "pca_model = skd.PCA().fit(pca_df1)"
   ]
  },
  {
   "cell_type": "code",
   "execution_count": 587,
   "metadata": {},
   "outputs": [
    {
     "data": {
      "text/plain": [
       "(13, 13)"
      ]
     },
     "execution_count": 587,
     "metadata": {},
     "output_type": "execute_result"
    }
   ],
   "source": [
    "pca_model.components_.shape"
   ]
  },
  {
   "cell_type": "code",
   "execution_count": 588,
   "metadata": {},
   "outputs": [
    {
     "data": {
      "text/plain": [
       "array([1.87710934, 1.44504652, 1.33198556, 1.14476071, 1.07205259,\n",
       "       1.01313407, 0.98284645, 0.92136074, 0.83371918, 0.70351212,\n",
       "       0.66385641, 0.55892198, 0.45181195])"
      ]
     },
     "execution_count": 588,
     "metadata": {},
     "output_type": "execute_result"
    }
   ],
   "source": [
    "pca_model.explained_variance_"
   ]
  },
  {
   "cell_type": "markdown",
   "metadata": {},
   "source": [
    "Explained variance suggests 6 components"
   ]
  },
  {
   "cell_type": "code",
   "execution_count": 589,
   "metadata": {},
   "outputs": [
    {
     "data": {
      "text/plain": [
       "Index(['Gender', 'Scholarship', 'Hypertension', 'Diabetes', 'Neighbourhood',\n",
       "       'Alcoholism', 'Handcap', 'SMS_received', 'Age', 'wait_time',\n",
       "       'day_week_appt', 'day_week_sched', 'hour_of_day_sched', 'no_show'],\n",
       "      dtype='object')"
      ]
     },
     "execution_count": 589,
     "metadata": {},
     "output_type": "execute_result"
    }
   ],
   "source": [
    "pca_df.columns"
   ]
  },
  {
   "cell_type": "code",
   "execution_count": 590,
   "metadata": {},
   "outputs": [
    {
     "data": {
      "text/plain": [
       "[<matplotlib.lines.Line2D at 0x28197ec5be0>]"
      ]
     },
     "execution_count": 590,
     "metadata": {},
     "output_type": "execute_result"
    },
    {
     "data": {
      "image/png": "[encoded data removed]",
      "text/plain": [
       "<Figure size 432x288 with 1 Axes>"
      ]
     },
     "metadata": {},
     "output_type": "display_data"
    }
   ],
   "source": [
    "plt.plot(range(1,14),pca_model.explained_variance_,'b-o')"
   ]
  },
  {
   "cell_type": "code",
   "execution_count": 602,
   "metadata": {},
   "outputs": [
    {
     "data": {
      "text/html": [
       "<div>\n",
       "<style scoped>\n",
       "    .dataframe tbody tr th:only-of-type {\n",
       "        vertical-align: middle;\n",
       "    }\n",
       "\n",
       "    .dataframe tbody tr th {\n",
       "        vertical-align: top;\n",
       "    }\n",
       "\n",
       "    .dataframe thead th {\n",
       "        text-align: right;\n",
       "    }\n",
       "</style>\n",
       "<table border=\"1\" class=\"dataframe\">\n",
       "  <thead>\n",
       "    <tr style=\"text-align: right;\">\n",
       "      <th></th>\n",
       "      <th>Gender</th>\n",
       "      <th>Scholarship</th>\n",
       "      <th>Hypertension</th>\n",
       "      <th>Diabetes</th>\n",
       "      <th>Neighbourhood</th>\n",
       "      <th>Alcoholism</th>\n",
       "      <th>Handcap</th>\n",
       "      <th>SMS_received</th>\n",
       "      <th>Age</th>\n",
       "      <th>wait_time</th>\n",
       "      <th>day_week_appt</th>\n",
       "      <th>day_week_sched</th>\n",
       "      <th>hour_of_day_sched</th>\n",
       "    </tr>\n",
       "    <tr>\n",
       "      <th>no_show</th>\n",
       "      <th></th>\n",
       "      <th></th>\n",
       "      <th></th>\n",
       "      <th></th>\n",
       "      <th></th>\n",
       "      <th></th>\n",
       "      <th></th>\n",
       "      <th></th>\n",
       "      <th></th>\n",
       "      <th></th>\n",
       "      <th></th>\n",
       "      <th></th>\n",
       "      <th></th>\n",
       "    </tr>\n",
       "  </thead>\n",
       "  <tbody>\n",
       "    <tr>\n",
       "      <th>0</th>\n",
       "      <td>0.648989</td>\n",
       "      <td>0.093903</td>\n",
       "      <td>0.204392</td>\n",
       "      <td>0.073837</td>\n",
       "      <td>31.258831</td>\n",
       "      <td>0.030417</td>\n",
       "      <td>0.022742</td>\n",
       "      <td>0.291334</td>\n",
       "      <td>37.790064</td>\n",
       "      <td>8.171526</td>\n",
       "      <td>2.857439</td>\n",
       "      <td>2.847780</td>\n",
       "      <td>10.676322</td>\n",
       "    </tr>\n",
       "    <tr>\n",
       "      <th>1</th>\n",
       "      <td>0.653882</td>\n",
       "      <td>0.115507</td>\n",
       "      <td>0.169004</td>\n",
       "      <td>0.064071</td>\n",
       "      <td>32.239034</td>\n",
       "      <td>0.030333</td>\n",
       "      <td>0.020297</td>\n",
       "      <td>0.438371</td>\n",
       "      <td>34.317667</td>\n",
       "      <td>14.912451</td>\n",
       "      <td>2.861419</td>\n",
       "      <td>2.868453</td>\n",
       "      <td>11.162597</td>\n",
       "    </tr>\n",
       "  </tbody>\n",
       "</table>\n",
       "</div>"
      ],
      "text/plain": [
       "           Gender  Scholarship  Hypertension  Diabetes  Neighbourhood  \\\n",
       "no_show                                                                 \n",
       "0        0.648989     0.093903      0.204392  0.073837      31.258831   \n",
       "1        0.653882     0.115507      0.169004  0.064071      32.239034   \n",
       "\n",
       "         Alcoholism   Handcap  SMS_received        Age  wait_time  \\\n",
       "no_show                                                             \n",
       "0          0.030417  0.022742      0.291334  37.790064   8.171526   \n",
       "1          0.030333  0.020297      0.438371  34.317667  14.912451   \n",
       "\n",
       "         day_week_appt  day_week_sched  hour_of_day_sched  \n",
       "no_show                                                    \n",
       "0             2.857439        2.847780          10.676322  \n",
       "1             2.861419        2.868453          11.162597  "
      ]
     },
     "execution_count": 602,
     "metadata": {},
     "output_type": "execute_result"
    }
   ],
   "source": [
    "no_show_group=pca_df.groupby('no_show').mean()\n",
    "no_show_group.head()"
   ]
  },
  {
   "cell_type": "markdown",
   "metadata": {},
   "source": [
    "scree plot suggests about 4 components"
   ]
  },
  {
   "cell_type": "code",
   "execution_count": 606,
   "metadata": {},
   "outputs": [
    {
     "data": {
      "image/png": "[encoded data removed]",
      "text/plain": [
       "<Figure size 576x576 with 1 Axes>"
      ]
     },
     "metadata": {},
     "output_type": "display_data"
    }
   ],
   "source": [
    "# Scatterplot of aggregated data\n",
    "X = pca_model.transform(pca_df1)\n",
    "plt.figure(figsize=(8,8))\n",
    "plt.scatter(X[:,0], X[:,1], s=50)\n",
    "plt.xlabel('PC1')\n",
    "plt.ylabel('PC2')\n",
    "plt.title('PCA: Biplot')\n",
    "plt.xlim(-4,8)\n",
    "plt.ylim(-4,8)\n",
    "\n",
    "# Add variable unit vector projections\n",
    "V = pca_model.transform(np.identity(X.shape[1]))\n",
    "for i, v in enumerate(V):\n",
    "    plt.annotate(pca_df.columns[i], \n",
    "                 xy=(0,0), xytext=v[:2]*10, \n",
    "                 fontsize=12, color='orange',\n",
    "                 arrowprops=dict(\n",
    "                    arrowstyle='<-', linewidth=2, \n",
    "                    color='orange'))\n",
    "\n",
    "# Add data point annotation\n",
    "# for i, s in enumerate(no_show_group.index):\n",
    "#     plt.annotate(s, xy=X[i,:2]+[0.1,-0.1], fontsize=15)"
   ]
  },
  {
   "cell_type": "code",
   "execution_count": 485,
   "metadata": {},
   "outputs": [
    {
     "data": {
      "text/html": [
       "<div>\n",
       "<style scoped>\n",
       "    .dataframe tbody tr th:only-of-type {\n",
       "        vertical-align: middle;\n",
       "    }\n",
       "\n",
       "    .dataframe tbody tr th {\n",
       "        vertical-align: top;\n",
       "    }\n",
       "\n",
       "    .dataframe thead th {\n",
       "        text-align: right;\n",
       "    }\n",
       "</style>\n",
       "<table border=\"1\" class=\"dataframe\">\n",
       "  <thead>\n",
       "    <tr style=\"text-align: right;\">\n",
       "      <th></th>\n",
       "      <th>PC1</th>\n",
       "      <th>PC2</th>\n",
       "      <th>PC3</th>\n",
       "      <th>PC4</th>\n",
       "    </tr>\n",
       "  </thead>\n",
       "  <tbody>\n",
       "    <tr>\n",
       "      <th>Gender</th>\n",
       "      <td>0.097035</td>\n",
       "      <td>0.151347</td>\n",
       "      <td>-0.005438</td>\n",
       "      <td>-0.670871</td>\n",
       "    </tr>\n",
       "    <tr>\n",
       "      <th>Scholarship</th>\n",
       "      <td>-0.071209</td>\n",
       "      <td>-0.044485</td>\n",
       "      <td>-0.006843</td>\n",
       "      <td>-0.576248</td>\n",
       "    </tr>\n",
       "    <tr>\n",
       "      <th>Hypertension</th>\n",
       "      <td>0.609893</td>\n",
       "      <td>0.003448</td>\n",
       "      <td>-0.012104</td>\n",
       "      <td>-0.034213</td>\n",
       "    </tr>\n",
       "    <tr>\n",
       "      <th>Diabetes</th>\n",
       "      <td>0.508360</td>\n",
       "      <td>-0.016224</td>\n",
       "      <td>-0.015388</td>\n",
       "      <td>-0.042402</td>\n",
       "    </tr>\n",
       "    <tr>\n",
       "      <th>Neighbourhood</th>\n",
       "      <td>-0.020382</td>\n",
       "      <td>-0.053581</td>\n",
       "      <td>0.079091</td>\n",
       "      <td>-0.198342</td>\n",
       "    </tr>\n",
       "    <tr>\n",
       "      <th>Alcoholism</th>\n",
       "      <td>0.121201</td>\n",
       "      <td>-0.121533</td>\n",
       "      <td>0.000609</td>\n",
       "      <td>0.309542</td>\n",
       "    </tr>\n",
       "    <tr>\n",
       "      <th>Handcap</th>\n",
       "      <td>0.139184</td>\n",
       "      <td>-0.060456</td>\n",
       "      <td>-0.008760</td>\n",
       "      <td>0.125913</td>\n",
       "    </tr>\n",
       "    <tr>\n",
       "      <th>SMS_received</th>\n",
       "      <td>-0.018636</td>\n",
       "      <td>0.663302</td>\n",
       "      <td>0.093183</td>\n",
       "      <td>0.008519</td>\n",
       "    </tr>\n",
       "    <tr>\n",
       "      <th>Age</th>\n",
       "      <td>0.564720</td>\n",
       "      <td>0.078572</td>\n",
       "      <td>0.000917</td>\n",
       "      <td>0.025268</td>\n",
       "    </tr>\n",
       "    <tr>\n",
       "      <th>wait_time</th>\n",
       "      <td>-0.021390</td>\n",
       "      <td>0.656498</td>\n",
       "      <td>0.101586</td>\n",
       "      <td>0.076473</td>\n",
       "    </tr>\n",
       "    <tr>\n",
       "      <th>day_week_appt</th>\n",
       "      <td>0.015741</td>\n",
       "      <td>-0.159229</td>\n",
       "      <td>0.680282</td>\n",
       "      <td>0.011793</td>\n",
       "    </tr>\n",
       "    <tr>\n",
       "      <th>day_week_sched</th>\n",
       "      <td>0.012961</td>\n",
       "      <td>-0.002200</td>\n",
       "      <td>0.712215</td>\n",
       "      <td>0.009501</td>\n",
       "    </tr>\n",
       "    <tr>\n",
       "      <th>hour_of_day_sched</th>\n",
       "      <td>-0.022524</td>\n",
       "      <td>0.225947</td>\n",
       "      <td>-0.064576</td>\n",
       "      <td>0.238963</td>\n",
       "    </tr>\n",
       "  </tbody>\n",
       "</table>\n",
       "</div>"
      ],
      "text/plain": [
       "                        PC1       PC2       PC3       PC4\n",
       "Gender             0.097035  0.151347 -0.005438 -0.670871\n",
       "Scholarship       -0.071209 -0.044485 -0.006843 -0.576248\n",
       "Hypertension       0.609893  0.003448 -0.012104 -0.034213\n",
       "Diabetes           0.508360 -0.016224 -0.015388 -0.042402\n",
       "Neighbourhood     -0.020382 -0.053581  0.079091 -0.198342\n",
       "Alcoholism         0.121201 -0.121533  0.000609  0.309542\n",
       "Handcap            0.139184 -0.060456 -0.008760  0.125913\n",
       "SMS_received      -0.018636  0.663302  0.093183  0.008519\n",
       "Age                0.564720  0.078572  0.000917  0.025268\n",
       "wait_time         -0.021390  0.656498  0.101586  0.076473\n",
       "day_week_appt      0.015741 -0.159229  0.680282  0.011793\n",
       "day_week_sched     0.012961 -0.002200  0.712215  0.009501\n",
       "hour_of_day_sched -0.022524  0.225947 -0.064576  0.238963"
      ]
     },
     "execution_count": 485,
     "metadata": {},
     "output_type": "execute_result"
    }
   ],
   "source": [
    "# build a PCA model to compare with the factor model above\n",
    "pca_model = skd.PCA(n_components=4).fit(pca_df1)\n",
    "\n",
    "# Show the principcal components\n",
    "pd.DataFrame(pca_model.components_[:4,:].T, \n",
    "             index=pca_df.iloc[:,:13].columns,\n",
    "             columns=['PC1', 'PC2','PC3','PC4'])"
   ]
  },
  {
   "cell_type": "code",
   "execution_count": 486,
   "metadata": {},
   "outputs": [
    {
     "data": {
      "text/plain": [
       "(4, 13)"
      ]
     },
     "execution_count": 486,
     "metadata": {},
     "output_type": "execute_result"
    }
   ],
   "source": [
    "pca_model.components_.shape"
   ]
  },
  {
   "cell_type": "code",
   "execution_count": 487,
   "metadata": {},
   "outputs": [
    {
     "data": {
      "text/plain": [
       "-18.15262619901683"
      ]
     },
     "execution_count": 487,
     "metadata": {},
     "output_type": "execute_result"
    }
   ],
   "source": [
    "pca_model.score(pca_df1)"
   ]
  },
  {
   "cell_type": "markdown",
   "metadata": {},
   "source": [
    "# Part 4 - Classification of No-shows"
   ]
  },
  {
   "cell_type": "code",
   "execution_count": 498,
   "metadata": {},
   "outputs": [],
   "source": [
    "g = pca_df.groupby('no_show')\n",
    "g.apply(lambda x: x.sample(g.size().min()).reset_index(drop=True))\n",
    "g = pca_df.groupby('no_show')\n",
    "g = pd.DataFrame(g.apply(lambda x: x.sample(g.size().min()).reset_index(drop=True)))\n",
    "pca_df=g"
   ]
  },
  {
   "cell_type": "code",
   "execution_count": 499,
   "metadata": {},
   "outputs": [],
   "source": [
    "from sklearn.model_selection import train_test_split\n",
    "\n",
    "train, test = train_test_split(pca_df)"
   ]
  },
  {
   "cell_type": "code",
   "execution_count": 500,
   "metadata": {},
   "outputs": [
    {
     "data": {
      "text/plain": [
       "0.30289431541614265"
      ]
     },
     "execution_count": 500,
     "metadata": {},
     "output_type": "execute_result"
    }
   ],
   "source": [
    "len(train)/len(data)\n",
    "# len(test)/len(data)"
   ]
  },
  {
   "cell_type": "markdown",
   "metadata": {},
   "source": [
    "## Baseline - Patient always shows up"
   ]
  },
  {
   "cell_type": "code",
   "execution_count": 501,
   "metadata": {},
   "outputs": [],
   "source": [
    "all_shows=[0]*len(test)"
   ]
  },
  {
   "cell_type": "code",
   "execution_count": 502,
   "metadata": {},
   "outputs": [
    {
     "name": "stdout",
     "output_type": "stream",
     "text": [
      "Accuracy: 49.55%\n"
     ]
    }
   ],
   "source": [
    "from sklearn.metrics import accuracy_score\n",
    "\n",
    "accuracy = accuracy_score(test.no_show, all_shows)\n",
    "print(\"Accuracy: {0:.2%}\".format(accuracy))"
   ]
  },
  {
   "cell_type": "markdown",
   "metadata": {},
   "source": [
    "## Random Forest"
   ]
  },
  {
   "cell_type": "code",
   "execution_count": 503,
   "metadata": {},
   "outputs": [
    {
     "data": {
      "text/plain": [
       "RandomForestClassifier(bootstrap=True, class_weight=None, criterion='gini',\n",
       "            max_depth=None, max_features='auto', max_leaf_nodes=None,\n",
       "            min_impurity_decrease=0.0, min_impurity_split=None,\n",
       "            min_samples_leaf=1, min_samples_split=2,\n",
       "            min_weight_fraction_leaf=0.0, n_estimators=9, n_jobs=1,\n",
       "            oob_score=False, random_state=None, verbose=0,\n",
       "            warm_start=False)"
      ]
     },
     "execution_count": 503,
     "metadata": {},
     "output_type": "execute_result"
    }
   ],
   "source": [
    "import sklearn.ensemble as skens\n",
    "\n",
    "rf_model = skens.RandomForestClassifier(n_estimators=9,oob_score=False, criterion='gini')\n",
    "rf_model.fit(train.iloc[:,:13], train.no_show)\n"
   ]
  },
  {
   "cell_type": "code",
   "execution_count": 504,
   "metadata": {},
   "outputs": [],
   "source": [
    "predicted_labels = rf_model.predict(test.iloc[:,:13])"
   ]
  },
  {
   "cell_type": "code",
   "execution_count": 505,
   "metadata": {},
   "outputs": [
    {
     "name": "stdout",
     "output_type": "stream",
     "text": [
      "Accuracy: 64.96%\n"
     ]
    }
   ],
   "source": [
    "from sklearn.metrics import accuracy_score\n",
    "\n",
    "accuracy = accuracy_score(test.no_show,predicted_labels)\n",
    "print(\"Accuracy: {0:.2%}\".format(accuracy))"
   ]
  },
  {
   "cell_type": "code",
   "execution_count": 506,
   "metadata": {},
   "outputs": [],
   "source": [
    "param_grid={\n",
    "    'n_estimators':[5,10,15,20,25,35,50],\n",
    "    'max_depth': [2,5,7,9, 12,15,None],\n",
    "\n",
    "}"
   ]
  },
  {
   "cell_type": "code",
   "execution_count": 507,
   "metadata": {},
   "outputs": [
    {
     "data": {
      "text/plain": [
       "GridSearchCV(cv=10, error_score='raise',\n",
       "       estimator=RandomForestClassifier(bootstrap=True, class_weight=None, criterion='gini',\n",
       "            max_depth=None, max_features='auto', max_leaf_nodes=None,\n",
       "            min_impurity_decrease=0.0, min_impurity_split=None,\n",
       "            min_samples_leaf=1, min_samples_split=2,\n",
       "            min_weight_fraction_leaf=0.0, n_estimators=9, n_jobs=1,\n",
       "            oob_score=False, random_state=None, verbose=0,\n",
       "            warm_start=False),\n",
       "       fit_params=None, iid=True, n_jobs=1,\n",
       "       param_grid={'n_estimators': [5, 10, 15, 20, 25, 35, 50], 'max_depth': [2, 5, 7, 9, 12, 15, None]},\n",
       "       pre_dispatch='2*n_jobs', refit=True, return_train_score='warn',\n",
       "       scoring=None, verbose=0)"
      ]
     },
     "execution_count": 507,
     "metadata": {},
     "output_type": "execute_result"
    }
   ],
   "source": [
    "from sklearn.model_selection import GridSearchCV\n",
    "\n",
    "grid_clf = GridSearchCV(rf_model, param_grid,cv=10)\n",
    "grid_clf.fit(train.iloc[:,:13], train.no_show)"
   ]
  },
  {
   "cell_type": "code",
   "execution_count": 508,
   "metadata": {},
   "outputs": [
    {
     "data": {
      "text/plain": [
       "RandomForestClassifier(bootstrap=True, class_weight=None, criterion='gini',\n",
       "            max_depth=15, max_features='auto', max_leaf_nodes=None,\n",
       "            min_impurity_decrease=0.0, min_impurity_split=None,\n",
       "            min_samples_leaf=1, min_samples_split=2,\n",
       "            min_weight_fraction_leaf=0.0, n_estimators=35, n_jobs=1,\n",
       "            oob_score=False, random_state=None, verbose=0,\n",
       "            warm_start=False)"
      ]
     },
     "execution_count": 508,
     "metadata": {},
     "output_type": "execute_result"
    }
   ],
   "source": [
    "grid_clf.best_estimator_"
   ]
  },
  {
   "cell_type": "code",
   "execution_count": 509,
   "metadata": {},
   "outputs": [
    {
     "data": {
      "text/plain": [
       "{'max_depth': 15, 'n_estimators': 35}"
      ]
     },
     "execution_count": 509,
     "metadata": {},
     "output_type": "execute_result"
    }
   ],
   "source": [
    "grid_clf.best_params_"
   ]
  },
  {
   "cell_type": "code",
   "execution_count": 633,
   "metadata": {},
   "outputs": [
    {
     "data": {
      "text/plain": [
       "RandomForestClassifier(bootstrap=True, class_weight=None, criterion='gini',\n",
       "            max_depth=15, max_features='auto', max_leaf_nodes=None,\n",
       "            min_impurity_decrease=0.0, min_impurity_split=None,\n",
       "            min_samples_leaf=1, min_samples_split=2,\n",
       "            min_weight_fraction_leaf=0.0, n_estimators=35, n_jobs=1,\n",
       "            oob_score=False, random_state=None, verbose=0,\n",
       "            warm_start=False)"
      ]
     },
     "execution_count": 633,
     "metadata": {},
     "output_type": "execute_result"
    }
   ],
   "source": [
    "rf_model = skens.RandomForestClassifier(n_estimators=35,max_depth=15, oob_score=False, criterion='gini')\n",
    "rf_model.fit(train.iloc[:,:13], train.no_show)"
   ]
  },
  {
   "cell_type": "code",
   "execution_count": 634,
   "metadata": {},
   "outputs": [],
   "source": [
    "predicted_labels = rf_model.predict(test.iloc[:,:13])"
   ]
  },
  {
   "cell_type": "code",
   "execution_count": 635,
   "metadata": {},
   "outputs": [
    {
     "name": "stdout",
     "output_type": "stream",
     "text": [
      "Wall time: 127 ms\n"
     ]
    }
   ],
   "source": [
    "%%time\n",
    "predicted_labels = rf_model.predict(test.iloc[:,:13])"
   ]
  },
  {
   "cell_type": "code",
   "execution_count": 559,
   "metadata": {},
   "outputs": [
    {
     "name": "stdout",
     "output_type": "stream",
     "text": [
      "Accuracy: 67.38%\n"
     ]
    }
   ],
   "source": [
    "accuracy = accuracy_score(test.no_show,predicted_labels)\n",
    "print(\"Accuracy: {0:.2%}\".format(accuracy))"
   ]
  },
  {
   "cell_type": "code",
   "execution_count": 513,
   "metadata": {},
   "outputs": [
    {
     "data": {
      "text/plain": [
       "GridSearchCV(cv=5, error_score='raise',\n",
       "       estimator=RandomForestClassifier(bootstrap=True, class_weight=None, criterion='gini',\n",
       "            max_depth=12, max_features='auto', max_leaf_nodes=None,\n",
       "            min_impurity_decrease=0.0, min_impurity_split=None,\n",
       "            min_samples_leaf=1, min_samples_split=2,\n",
       "            min_weight_fraction_leaf=0.0, n_estimators=50, n_jobs=1,\n",
       "            oob_score=False, random_state=None, verbose=0,\n",
       "            warm_start=False),\n",
       "       fit_params=None, iid=True, n_jobs=1,\n",
       "       param_grid={'n_estimators': [5, 10, 15, 20, 25, 35, 50], 'max_depth': [2, 5, 7, 9, 12, 15, None]},\n",
       "       pre_dispatch='2*n_jobs', refit=True, return_train_score='warn',\n",
       "       scoring=None, verbose=0)"
      ]
     },
     "execution_count": 513,
     "metadata": {},
     "output_type": "execute_result"
    }
   ],
   "source": [
    "grid_clf = GridSearchCV(rf_model, param_grid,cv=5)\n",
    "grid_clf.fit(train.iloc[:,:13], train.no_show)"
   ]
  },
  {
   "cell_type": "code",
   "execution_count": 514,
   "metadata": {},
   "outputs": [
    {
     "data": {
      "text/plain": [
       "RandomForestClassifier(bootstrap=True, class_weight=None, criterion='gini',\n",
       "            max_depth=15, max_features='auto', max_leaf_nodes=None,\n",
       "            min_impurity_decrease=0.0, min_impurity_split=None,\n",
       "            min_samples_leaf=1, min_samples_split=2,\n",
       "            min_weight_fraction_leaf=0.0, n_estimators=50, n_jobs=1,\n",
       "            oob_score=False, random_state=None, verbose=0,\n",
       "            warm_start=False)"
      ]
     },
     "execution_count": 514,
     "metadata": {},
     "output_type": "execute_result"
    }
   ],
   "source": [
    "grid_clf.best_estimator_"
   ]
  },
  {
   "cell_type": "code",
   "execution_count": 515,
   "metadata": {},
   "outputs": [
    {
     "data": {
      "text/plain": [
       "{'max_depth': 15, 'n_estimators': 50}"
      ]
     },
     "execution_count": 515,
     "metadata": {},
     "output_type": "execute_result"
    }
   ],
   "source": [
    "grid_clf.best_params_"
   ]
  },
  {
   "cell_type": "code",
   "execution_count": 560,
   "metadata": {},
   "outputs": [
    {
     "data": {
      "text/plain": [
       "RandomForestClassifier(bootstrap=True, class_weight=None, criterion='gini',\n",
       "            max_depth=15, max_features='auto', max_leaf_nodes=None,\n",
       "            min_impurity_decrease=0.0, min_impurity_split=None,\n",
       "            min_samples_leaf=1, min_samples_split=2,\n",
       "            min_weight_fraction_leaf=0.0, n_estimators=50, n_jobs=1,\n",
       "            oob_score=False, random_state=None, verbose=0,\n",
       "            warm_start=False)"
      ]
     },
     "execution_count": 560,
     "metadata": {},
     "output_type": "execute_result"
    }
   ],
   "source": [
    "rf_model = skens.RandomForestClassifier(n_estimators=50,max_depth=15, oob_score=False, criterion='gini')\n",
    "rf_model.fit(train.iloc[:,:13], train.no_show)"
   ]
  },
  {
   "cell_type": "code",
   "execution_count": 561,
   "metadata": {},
   "outputs": [
    {
     "name": "stdout",
     "output_type": "stream",
     "text": [
      "Accuracy: 67.38%\n"
     ]
    }
   ],
   "source": [
    "accuracy = accuracy_score(test.no_show,predicted_labels)\n",
    "print(\"Accuracy: {0:.2%}\".format(accuracy))"
   ]
  },
  {
   "cell_type": "markdown",
   "metadata": {},
   "source": [
    "## Random Forest with PCA"
   ]
  },
  {
   "cell_type": "code",
   "execution_count": 518,
   "metadata": {},
   "outputs": [],
   "source": [
    "pca_model.fit(train.iloc[:,:13])\n",
    "pca_train=pca_model.transform(train.iloc[:,:13])\n",
    "pca_test=pca_model.transform(test.iloc[:,:13])"
   ]
  },
  {
   "cell_type": "code",
   "execution_count": 519,
   "metadata": {},
   "outputs": [
    {
     "data": {
      "text/plain": [
       "RandomForestClassifier(bootstrap=True, class_weight=None, criterion='gini',\n",
       "            max_depth=9, max_features='auto', max_leaf_nodes=None,\n",
       "            min_impurity_decrease=0.0, min_impurity_split=None,\n",
       "            min_samples_leaf=1, min_samples_split=2,\n",
       "            min_weight_fraction_leaf=0.0, n_estimators=50, n_jobs=1,\n",
       "            oob_score=False, random_state=None, verbose=0,\n",
       "            warm_start=False)"
      ]
     },
     "execution_count": 519,
     "metadata": {},
     "output_type": "execute_result"
    }
   ],
   "source": [
    "rf_model = skens.RandomForestClassifier(n_estimators=50,max_depth=9, oob_score=False, criterion='gini')\n",
    "rf_model.fit(pca_train, train['no_show'])"
   ]
  },
  {
   "cell_type": "code",
   "execution_count": 520,
   "metadata": {},
   "outputs": [],
   "source": [
    "predicted_labels = rf_model.predict(pca_test)"
   ]
  },
  {
   "cell_type": "code",
   "execution_count": 521,
   "metadata": {},
   "outputs": [
    {
     "name": "stdout",
     "output_type": "stream",
     "text": [
      "Accuracy: 67.33%\n"
     ]
    }
   ],
   "source": [
    "accuracy = accuracy_score(test.no_show,predicted_labels)\n",
    "print(\"Accuracy: {0:.2%}\".format(accuracy))"
   ]
  },
  {
   "cell_type": "code",
   "execution_count": 522,
   "metadata": {},
   "outputs": [
    {
     "data": {
      "text/plain": [
       "GridSearchCV(cv=10, error_score='raise',\n",
       "       estimator=RandomForestClassifier(bootstrap=True, class_weight=None, criterion='gini',\n",
       "            max_depth=9, max_features='auto', max_leaf_nodes=None,\n",
       "            min_impurity_decrease=0.0, min_impurity_split=None,\n",
       "            min_samples_leaf=1, min_samples_split=2,\n",
       "            min_weight_fraction_leaf=0.0, n_estimators=50, n_jobs=1,\n",
       "            oob_score=False, random_state=None, verbose=0,\n",
       "            warm_start=False),\n",
       "       fit_params=None, iid=True, n_jobs=1,\n",
       "       param_grid={'n_estimators': [5, 10, 15, 20, 25, 35, 50], 'max_depth': [2, 5, 7, 9, 12, 15, None]},\n",
       "       pre_dispatch='2*n_jobs', refit=True, return_train_score='warn',\n",
       "       scoring=None, verbose=0)"
      ]
     },
     "execution_count": 522,
     "metadata": {},
     "output_type": "execute_result"
    }
   ],
   "source": [
    "grid_clf = GridSearchCV(rf_model, param_grid,cv=10)\n",
    "grid_clf.fit(train.iloc[:,:13], train.no_show)"
   ]
  },
  {
   "cell_type": "code",
   "execution_count": 523,
   "metadata": {},
   "outputs": [
    {
     "data": {
      "text/plain": [
       "{'max_depth': 15, 'n_estimators': 50}"
      ]
     },
     "execution_count": 523,
     "metadata": {},
     "output_type": "execute_result"
    }
   ],
   "source": [
    "grid_clf.best_params_"
   ]
  },
  {
   "cell_type": "code",
   "execution_count": 562,
   "metadata": {},
   "outputs": [
    {
     "data": {
      "text/plain": [
       "RandomForestClassifier(bootstrap=True, class_weight=None, criterion='entropy',\n",
       "            max_depth=15, max_features='auto', max_leaf_nodes=None,\n",
       "            min_impurity_decrease=0.0, min_impurity_split=None,\n",
       "            min_samples_leaf=1, min_samples_split=2,\n",
       "            min_weight_fraction_leaf=0.0, n_estimators=50, n_jobs=1,\n",
       "            oob_score=False, random_state=None, verbose=0,\n",
       "            warm_start=False)"
      ]
     },
     "execution_count": 562,
     "metadata": {},
     "output_type": "execute_result"
    }
   ],
   "source": [
    "rf_model = skens.RandomForestClassifier(n_estimators=50,max_depth=15, oob_score=False, criterion='entropy')\n",
    "rf_model.fit(pca_train, train['no_show'])"
   ]
  },
  {
   "cell_type": "code",
   "execution_count": 563,
   "metadata": {},
   "outputs": [],
   "source": [
    "predicted_labels = rf_model.predict(pca_test)"
   ]
  },
  {
   "cell_type": "code",
   "execution_count": 564,
   "metadata": {},
   "outputs": [
    {
     "name": "stdout",
     "output_type": "stream",
     "text": [
      "Accuracy: 67.33%\n"
     ]
    }
   ],
   "source": [
    "accuracy = accuracy_score(test.no_show,predicted_labels)\n",
    "print(\"Accuracy: {0:.2%}\".format(accuracy))"
   ]
  },
  {
   "cell_type": "code",
   "execution_count": 527,
   "metadata": {},
   "outputs": [
    {
     "data": {
      "text/plain": [
       "GridSearchCV(cv=5, error_score='raise',\n",
       "       estimator=RandomForestClassifier(bootstrap=True, class_weight=None, criterion='entropy',\n",
       "            max_depth=9, max_features='auto', max_leaf_nodes=None,\n",
       "            min_impurity_decrease=0.0, min_impurity_split=None,\n",
       "            min_samples_leaf=1, min_samples_split=2,\n",
       "            min_weight_fraction_leaf=0.0, n_estimators=35, n_jobs=1,\n",
       "            oob_score=False, random_state=None, verbose=0,\n",
       "            warm_start=False),\n",
       "       fit_params=None, iid=True, n_jobs=1,\n",
       "       param_grid={'n_estimators': [5, 10, 15, 20, 25, 35, 50], 'max_depth': [2, 5, 7, 9, 12, 15, None]},\n",
       "       pre_dispatch='2*n_jobs', refit=True, return_train_score='warn',\n",
       "       scoring=None, verbose=0)"
      ]
     },
     "execution_count": 527,
     "metadata": {},
     "output_type": "execute_result"
    }
   ],
   "source": [
    "grid_clf = GridSearchCV(rf_model, param_grid,cv=5)\n",
    "grid_clf.fit(train.iloc[:,:13], train.no_show)"
   ]
  },
  {
   "cell_type": "code",
   "execution_count": 528,
   "metadata": {},
   "outputs": [
    {
     "data": {
      "text/plain": [
       "{'max_depth': 15, 'n_estimators': 50}"
      ]
     },
     "execution_count": 528,
     "metadata": {},
     "output_type": "execute_result"
    }
   ],
   "source": [
    "grid_clf.best_params_"
   ]
  },
  {
   "cell_type": "code",
   "execution_count": 629,
   "metadata": {},
   "outputs": [
    {
     "data": {
      "text/plain": [
       "RandomForestClassifier(bootstrap=True, class_weight=None, criterion='entropy',\n",
       "            max_depth=15, max_features='auto', max_leaf_nodes=None,\n",
       "            min_impurity_decrease=0.0, min_impurity_split=None,\n",
       "            min_samples_leaf=1, min_samples_split=2,\n",
       "            min_weight_fraction_leaf=0.0, n_estimators=50, n_jobs=1,\n",
       "            oob_score=False, random_state=None, verbose=0,\n",
       "            warm_start=False)"
      ]
     },
     "execution_count": 629,
     "metadata": {},
     "output_type": "execute_result"
    }
   ],
   "source": [
    "rf_model = skens.RandomForestClassifier(n_estimators=50,max_depth=15, oob_score=False, criterion='entropy')\n",
    "rf_model.fit(pca_train, train['no_show'])"
   ]
  },
  {
   "cell_type": "code",
   "execution_count": 630,
   "metadata": {},
   "outputs": [],
   "source": [
    "predicted_labels = rf_model.predict(pca_test)"
   ]
  },
  {
   "cell_type": "code",
   "execution_count": 632,
   "metadata": {},
   "outputs": [
    {
     "name": "stdout",
     "output_type": "stream",
     "text": [
      "Wall time: 157 ms\n"
     ]
    }
   ],
   "source": [
    "%%time\n",
    "predicted_labels = rf_model.predict(pca_test)"
   ]
  },
  {
   "cell_type": "code",
   "execution_count": 570,
   "metadata": {},
   "outputs": [
    {
     "name": "stdout",
     "output_type": "stream",
     "text": [
      "Accuracy: 67.46%\n"
     ]
    }
   ],
   "source": [
    "accuracy = accuracy_score(test.no_show,predicted_labels)\n",
    "print(\"Accuracy: {0:.2%}\".format(accuracy))"
   ]
  },
  {
   "cell_type": "markdown",
   "metadata": {},
   "source": []
  },
  {
   "cell_type": "markdown",
   "metadata": {},
   "source": [
    "## SGD Classifier"
   ]
  },
  {
   "cell_type": "code",
   "execution_count": 532,
   "metadata": {},
   "outputs": [
    {
     "data": {
      "text/html": [
       "<div>\n",
       "<style scoped>\n",
       "    .dataframe tbody tr th:only-of-type {\n",
       "        vertical-align: middle;\n",
       "    }\n",
       "\n",
       "    .dataframe tbody tr th {\n",
       "        vertical-align: top;\n",
       "    }\n",
       "\n",
       "    .dataframe thead th {\n",
       "        text-align: right;\n",
       "    }\n",
       "</style>\n",
       "<table border=\"1\" class=\"dataframe\">\n",
       "  <thead>\n",
       "    <tr style=\"text-align: right;\">\n",
       "      <th></th>\n",
       "      <th></th>\n",
       "      <th>Gender</th>\n",
       "      <th>Scholarship</th>\n",
       "      <th>Hypertension</th>\n",
       "      <th>Diabetes</th>\n",
       "      <th>Neighbourhood</th>\n",
       "      <th>Alcoholism</th>\n",
       "      <th>Handcap</th>\n",
       "      <th>SMS_received</th>\n",
       "      <th>Age</th>\n",
       "      <th>wait_time</th>\n",
       "      <th>day_week_appt</th>\n",
       "      <th>day_week_sched</th>\n",
       "      <th>hour_of_day_sched</th>\n",
       "      <th>no_show</th>\n",
       "    </tr>\n",
       "    <tr>\n",
       "      <th>no_show</th>\n",
       "      <th></th>\n",
       "      <th></th>\n",
       "      <th></th>\n",
       "      <th></th>\n",
       "      <th></th>\n",
       "      <th></th>\n",
       "      <th></th>\n",
       "      <th></th>\n",
       "      <th></th>\n",
       "      <th></th>\n",
       "      <th></th>\n",
       "      <th></th>\n",
       "      <th></th>\n",
       "      <th></th>\n",
       "      <th></th>\n",
       "    </tr>\n",
       "  </thead>\n",
       "  <tbody>\n",
       "    <tr>\n",
       "      <th rowspan=\"2\" valign=\"top\">1</th>\n",
       "      <th>9189</th>\n",
       "      <td>1</td>\n",
       "      <td>1</td>\n",
       "      <td>0</td>\n",
       "      <td>0</td>\n",
       "      <td>49</td>\n",
       "      <td>0</td>\n",
       "      <td>0</td>\n",
       "      <td>1</td>\n",
       "      <td>17</td>\n",
       "      <td>28.0</td>\n",
       "      <td>5</td>\n",
       "      <td>4</td>\n",
       "      <td>10</td>\n",
       "      <td>1</td>\n",
       "    </tr>\n",
       "    <tr>\n",
       "      <th>9324</th>\n",
       "      <td>1</td>\n",
       "      <td>1</td>\n",
       "      <td>0</td>\n",
       "      <td>0</td>\n",
       "      <td>62</td>\n",
       "      <td>1</td>\n",
       "      <td>0</td>\n",
       "      <td>1</td>\n",
       "      <td>30</td>\n",
       "      <td>7.0</td>\n",
       "      <td>3</td>\n",
       "      <td>2</td>\n",
       "      <td>15</td>\n",
       "      <td>1</td>\n",
       "    </tr>\n",
       "    <tr>\n",
       "      <th rowspan=\"3\" valign=\"top\">0</th>\n",
       "      <th>18988</th>\n",
       "      <td>1</td>\n",
       "      <td>0</td>\n",
       "      <td>0</td>\n",
       "      <td>0</td>\n",
       "      <td>68</td>\n",
       "      <td>0</td>\n",
       "      <td>0</td>\n",
       "      <td>0</td>\n",
       "      <td>31</td>\n",
       "      <td>0.0</td>\n",
       "      <td>2</td>\n",
       "      <td>1</td>\n",
       "      <td>10</td>\n",
       "      <td>0</td>\n",
       "    </tr>\n",
       "    <tr>\n",
       "      <th>4438</th>\n",
       "      <td>1</td>\n",
       "      <td>1</td>\n",
       "      <td>1</td>\n",
       "      <td>0</td>\n",
       "      <td>65</td>\n",
       "      <td>1</td>\n",
       "      <td>0</td>\n",
       "      <td>0</td>\n",
       "      <td>45</td>\n",
       "      <td>6.0</td>\n",
       "      <td>5</td>\n",
       "      <td>5</td>\n",
       "      <td>18</td>\n",
       "      <td>0</td>\n",
       "    </tr>\n",
       "    <tr>\n",
       "      <th>8621</th>\n",
       "      <td>0</td>\n",
       "      <td>1</td>\n",
       "      <td>0</td>\n",
       "      <td>0</td>\n",
       "      <td>45</td>\n",
       "      <td>0</td>\n",
       "      <td>0</td>\n",
       "      <td>0</td>\n",
       "      <td>5</td>\n",
       "      <td>22.0</td>\n",
       "      <td>5</td>\n",
       "      <td>3</td>\n",
       "      <td>9</td>\n",
       "      <td>0</td>\n",
       "    </tr>\n",
       "  </tbody>\n",
       "</table>\n",
       "</div>"
      ],
      "text/plain": [
       "               Gender  Scholarship  Hypertension  Diabetes  Neighbourhood  \\\n",
       "no_show                                                                     \n",
       "1       9189        1            1             0         0             49   \n",
       "        9324        1            1             0         0             62   \n",
       "0       18988       1            0             0         0             68   \n",
       "        4438        1            1             1         0             65   \n",
       "        8621        0            1             0         0             45   \n",
       "\n",
       "               Alcoholism  Handcap  SMS_received  Age  wait_time  \\\n",
       "no_show                                                            \n",
       "1       9189            0        0             1   17       28.0   \n",
       "        9324            1        0             1   30        7.0   \n",
       "0       18988           0        0             0   31        0.0   \n",
       "        4438            1        0             0   45        6.0   \n",
       "        8621            0        0             0    5       22.0   \n",
       "\n",
       "               day_week_appt  day_week_sched  hour_of_day_sched  no_show  \n",
       "no_show                                                                   \n",
       "1       9189               5               4                 10        1  \n",
       "        9324               3               2                 15        1  \n",
       "0       18988              2               1                 10        0  \n",
       "        4438               5               5                 18        0  \n",
       "        8621               5               3                  9        0  "
      ]
     },
     "execution_count": 532,
     "metadata": {},
     "output_type": "execute_result"
    }
   ],
   "source": [
    "train.head()"
   ]
  },
  {
   "cell_type": "code",
   "execution_count": 533,
   "metadata": {},
   "outputs": [
    {
     "data": {
      "text/plain": [
       "SGDClassifier(alpha=0.01, average=False, class_weight=None, epsilon=0.1,\n",
       "       eta0=0.0, fit_intercept=True, l1_ratio=0.15,\n",
       "       learning_rate='optimal', loss='hinge', max_iter=10, n_iter=None,\n",
       "       n_jobs=-1, penalty='elasticnet', power_t=0.5, random_state=None,\n",
       "       shuffle=True, tol=None, verbose=0, warm_start=False)"
      ]
     },
     "execution_count": 533,
     "metadata": {},
     "output_type": "execute_result"
    }
   ],
   "source": [
    "from sklearn.linear_model import SGDClassifier\n",
    "\n",
    "sgd = SGDClassifier(alpha=1e-02,max_iter=10,penalty='elasticnet',n_jobs=-1)\n",
    "sgd.fit(train.iloc[:,:13],train.no_show)"
   ]
  },
  {
   "cell_type": "code",
   "execution_count": 534,
   "metadata": {},
   "outputs": [],
   "source": [
    "predicted_labels=sgd.predict(test.iloc[:,:13])"
   ]
  },
  {
   "cell_type": "code",
   "execution_count": 535,
   "metadata": {},
   "outputs": [
    {
     "name": "stdout",
     "output_type": "stream",
     "text": [
      "Wall time: 4.99 ms\n"
     ]
    }
   ],
   "source": [
    "%%time\n",
    "predicted_labels=sgd.predict(test.iloc[:,:13])"
   ]
  },
  {
   "cell_type": "code",
   "execution_count": 536,
   "metadata": {},
   "outputs": [
    {
     "name": "stdout",
     "output_type": "stream",
     "text": [
      "Accuracy: 56.15%\n"
     ]
    }
   ],
   "source": [
    "accuracy = accuracy_score(test.no_show,predicted_labels)\n",
    "print(\"Accuracy: {0:.2%}\".format(accuracy))"
   ]
  },
  {
   "cell_type": "code",
   "execution_count": 537,
   "metadata": {},
   "outputs": [],
   "source": [
    "param_grid={\n",
    "        'loss': ['hinge','log'],\n",
    "        'penalty': ['elasticnet','none','l2'],\n",
    "        'max_iter': [.001,.01,1],\n",
    "        'alpha': [.001,.01,.1,1]\n",
    "\n",
    "}"
   ]
  },
  {
   "cell_type": "code",
   "execution_count": 624,
   "metadata": {},
   "outputs": [
    {
     "data": {
      "text/plain": [
       "GridSearchCV(cv=10, error_score='raise',\n",
       "       estimator=SGDClassifier(alpha=0.1, average=False, class_weight=None, epsilon=0.1,\n",
       "       eta0=0.0, fit_intercept=True, l1_ratio=0.15,\n",
       "       learning_rate='optimal', loss='hinge', max_iter=1, n_iter=None,\n",
       "       n_jobs=-1, penalty='elasticnet', power_t=0.5, random_state=None,\n",
       "       shuffle=True, tol=None, verbose=0, warm_start=False),\n",
       "       fit_params=None, iid=True, n_jobs=1,\n",
       "       param_grid={'loss': ['hinge', 'log'], 'penalty': ['elasticnet', 'none', 'l2'], 'max_iter': [0.001, 0.01, 1]},\n",
       "       pre_dispatch='2*n_jobs', refit=True, return_train_score='warn',\n",
       "       scoring=None, verbose=0)"
      ]
     },
     "execution_count": 624,
     "metadata": {},
     "output_type": "execute_result"
    }
   ],
   "source": [
    "grid_clf = GridSearchCV(sgd, param_grid,cv=10)\n",
    "grid_clf.fit(train.iloc[:,:13], train.no_show)"
   ]
  },
  {
   "cell_type": "code",
   "execution_count": 625,
   "metadata": {},
   "outputs": [
    {
     "data": {
      "text/plain": [
       "{'loss': 'log', 'max_iter': 1, 'penalty': 'elasticnet'}"
      ]
     },
     "execution_count": 625,
     "metadata": {},
     "output_type": "execute_result"
    }
   ],
   "source": [
    "grid_clf.best_params_"
   ]
  },
  {
   "cell_type": "code",
   "execution_count": 636,
   "metadata": {},
   "outputs": [
    {
     "data": {
      "text/plain": [
       "SGDClassifier(alpha=0.1, average=False, class_weight=None, epsilon=0.1,\n",
       "       eta0=0.0, fit_intercept=True, l1_ratio=0.15,\n",
       "       learning_rate='optimal', loss='log', max_iter=1, n_iter=None,\n",
       "       n_jobs=-1, penalty='elasticnet', power_t=0.5, random_state=None,\n",
       "       shuffle=True, tol=None, verbose=0, warm_start=False)"
      ]
     },
     "execution_count": 636,
     "metadata": {},
     "output_type": "execute_result"
    }
   ],
   "source": [
    "sgd = SGDClassifier(alpha=.1,max_iter=1,penalty='elasticnet',n_jobs=-1,loss='log')\n",
    "sgd.fit(train.iloc[:,:13],train.no_show)"
   ]
  },
  {
   "cell_type": "code",
   "execution_count": 637,
   "metadata": {},
   "outputs": [],
   "source": [
    "predicted_labels=sgd.predict(test.iloc[:,:13])"
   ]
  },
  {
   "cell_type": "code",
   "execution_count": 638,
   "metadata": {},
   "outputs": [
    {
     "name": "stdout",
     "output_type": "stream",
     "text": [
      "Wall time: 7.84 ms\n"
     ]
    }
   ],
   "source": [
    "%%time\n",
    "predicted_labels=sgd.predict(test.iloc[:,:13])"
   ]
  },
  {
   "cell_type": "code",
   "execution_count": 628,
   "metadata": {},
   "outputs": [
    {
     "name": "stdout",
     "output_type": "stream",
     "text": [
      "Accuracy: 58.01%\n"
     ]
    }
   ],
   "source": [
    "accuracy = accuracy_score(test.no_show,predicted_labels)\n",
    "print(\"Accuracy: {0:.2%}\".format(accuracy))"
   ]
  },
  {
   "cell_type": "code",
   "execution_count": 538,
   "metadata": {},
   "outputs": [
    {
     "data": {
      "text/plain": [
       "GridSearchCV(cv=5, error_score='raise',\n",
       "       estimator=SGDClassifier(alpha=0.01, average=False, class_weight=None, epsilon=0.1,\n",
       "       eta0=0.0, fit_intercept=True, l1_ratio=0.15,\n",
       "       learning_rate='optimal', loss='hinge', max_iter=10, n_iter=None,\n",
       "       n_jobs=-1, penalty='elasticnet', power_t=0.5, random_state=None,\n",
       "       shuffle=True, tol=None, verbose=0, warm_start=False),\n",
       "       fit_params=None, iid=True, n_jobs=1,\n",
       "       param_grid={'loss': ['hinge', 'log'], 'penalty': ['elasticnet', 'none', 'l2'], 'max_iter': [0.001, 0.01, 1], 'alpha': [0.001, 0.01, 0.1, 1]},\n",
       "       pre_dispatch='2*n_jobs', refit=True, return_train_score='warn',\n",
       "       scoring=None, verbose=0)"
      ]
     },
     "execution_count": 538,
     "metadata": {},
     "output_type": "execute_result"
    }
   ],
   "source": [
    "grid_clf = GridSearchCV(sgd, param_grid,cv=5)\n",
    "grid_clf.fit(train.iloc[:,:13], train.no_show)"
   ]
  },
  {
   "cell_type": "code",
   "execution_count": 539,
   "metadata": {},
   "outputs": [
    {
     "data": {
      "text/plain": [
       "{'alpha': 0.1, 'loss': 'hinge', 'max_iter': 1, 'penalty': 'elasticnet'}"
      ]
     },
     "execution_count": 539,
     "metadata": {},
     "output_type": "execute_result"
    }
   ],
   "source": [
    "grid_clf.best_params_"
   ]
  },
  {
   "cell_type": "code",
   "execution_count": 571,
   "metadata": {},
   "outputs": [
    {
     "data": {
      "text/plain": [
       "SGDClassifier(alpha=0.1, average=False, class_weight=None, epsilon=0.1,\n",
       "       eta0=0.0, fit_intercept=True, l1_ratio=0.15,\n",
       "       learning_rate='optimal', loss='hinge', max_iter=1, n_iter=None,\n",
       "       n_jobs=-1, penalty='elasticnet', power_t=0.5, random_state=None,\n",
       "       shuffle=True, tol=None, verbose=0, warm_start=False)"
      ]
     },
     "execution_count": 571,
     "metadata": {},
     "output_type": "execute_result"
    }
   ],
   "source": [
    "sgd = SGDClassifier(alpha=.1,max_iter=1,penalty='elasticnet',n_jobs=-1,loss='hinge')\n",
    "sgd.fit(train.iloc[:,:13],train.no_show)"
   ]
  },
  {
   "cell_type": "code",
   "execution_count": 572,
   "metadata": {},
   "outputs": [],
   "source": [
    "predicted_labels=sgd.predict(test.iloc[:,:13])"
   ]
  },
  {
   "cell_type": "code",
   "execution_count": 573,
   "metadata": {},
   "outputs": [
    {
     "name": "stdout",
     "output_type": "stream",
     "text": [
      "Accuracy: 56.23%\n"
     ]
    }
   ],
   "source": [
    "accuracy = accuracy_score(test.no_show,predicted_labels)\n",
    "print(\"Accuracy: {0:.2%}\".format(accuracy))"
   ]
  },
  {
   "cell_type": "markdown",
   "metadata": {},
   "source": [
    "## SGD Classifier with PCA"
   ]
  },
  {
   "cell_type": "code",
   "execution_count": 543,
   "metadata": {},
   "outputs": [],
   "source": [
    "pca_model.fit(train.iloc[:,:13])\n",
    "pca_train=pca_model.transform(train.iloc[:,:13])\n",
    "pca_test=pca_model.transform(test.iloc[:,:13])"
   ]
  },
  {
   "cell_type": "code",
   "execution_count": 574,
   "metadata": {},
   "outputs": [
    {
     "data": {
      "text/plain": [
       "SGDClassifier(alpha=0.1, average=False, class_weight=None, epsilon=0.1,\n",
       "       eta0=0.0, fit_intercept=True, l1_ratio=0.15,\n",
       "       learning_rate='optimal', loss='hinge', max_iter=1, n_iter=None,\n",
       "       n_jobs=1, penalty='elasticnet', power_t=0.5, random_state=None,\n",
       "       shuffle=True, tol=None, verbose=0, warm_start=False)"
      ]
     },
     "execution_count": 574,
     "metadata": {},
     "output_type": "execute_result"
    }
   ],
   "source": [
    "sgd = SGDClassifier(alpha=.1,max_iter=1,penalty='elasticnet')\n",
    "sgd.fit(pca_train, train['no_show'])"
   ]
  },
  {
   "cell_type": "code",
   "execution_count": 575,
   "metadata": {},
   "outputs": [],
   "source": [
    "predicted_labels = sgd.predict(pca_test)"
   ]
  },
  {
   "cell_type": "code",
   "execution_count": 576,
   "metadata": {},
   "outputs": [
    {
     "name": "stdout",
     "output_type": "stream",
     "text": [
      "Wall time: 1.96 ms\n"
     ]
    }
   ],
   "source": [
    "%%time\n",
    "predicted_labels = sgd.predict(pca_test)"
   ]
  },
  {
   "cell_type": "code",
   "execution_count": 577,
   "metadata": {},
   "outputs": [
    {
     "name": "stdout",
     "output_type": "stream",
     "text": [
      "Accuracy: 60.40%\n"
     ]
    }
   ],
   "source": [
    "accuracy = accuracy_score(test.no_show,predicted_labels)\n",
    "print(\"Accuracy: {0:.2%}\".format(accuracy))"
   ]
  },
  {
   "cell_type": "code",
   "execution_count": 617,
   "metadata": {},
   "outputs": [],
   "source": [
    "param_grid={\n",
    "        'loss': ['hinge','log'],\n",
    "        'penalty': ['elasticnet','none','l2'],\n",
    "        'max_iter': [.001,.01,1]\n",
    "\n",
    "}"
   ]
  },
  {
   "cell_type": "code",
   "execution_count": 618,
   "metadata": {},
   "outputs": [
    {
     "data": {
      "text/plain": [
       "GridSearchCV(cv=10, error_score='raise',\n",
       "       estimator=SGDClassifier(alpha=0.1, average=False, class_weight=None, epsilon=0.1,\n",
       "       eta0=0.0, fit_intercept=True, l1_ratio=0.15,\n",
       "       learning_rate='optimal', loss='log', max_iter=1, n_iter=None,\n",
       "       n_jobs=-1, penalty='elasticnet', power_t=0.5, random_state=None,\n",
       "       shuffle=True, tol=None, verbose=0, warm_start=False),\n",
       "       fit_params=None, iid=True, n_jobs=1,\n",
       "       param_grid={'loss': ['hinge', 'log'], 'penalty': ['elasticnet', 'none', 'l2'], 'max_iter': [0.001, 0.01, 1]},\n",
       "       pre_dispatch='2*n_jobs', refit=True, return_train_score='warn',\n",
       "       scoring=None, verbose=0)"
      ]
     },
     "execution_count": 618,
     "metadata": {},
     "output_type": "execute_result"
    }
   ],
   "source": [
    "grid_clf = GridSearchCV(sgd, param_grid,cv=10)\n",
    "grid_clf.fit(train.iloc[:,:13], train.no_show)"
   ]
  },
  {
   "cell_type": "code",
   "execution_count": 619,
   "metadata": {},
   "outputs": [
    {
     "data": {
      "text/plain": [
       "{'loss': 'hinge', 'max_iter': 1, 'penalty': 'elasticnet'}"
      ]
     },
     "execution_count": 619,
     "metadata": {},
     "output_type": "execute_result"
    }
   ],
   "source": [
    "grid_clf.best_params_"
   ]
  },
  {
   "cell_type": "code",
   "execution_count": 621,
   "metadata": {},
   "outputs": [
    {
     "data": {
      "text/plain": [
       "SGDClassifier(alpha=0.1, average=False, class_weight=None, epsilon=0.1,\n",
       "       eta0=0.0, fit_intercept=True, l1_ratio=0.15,\n",
       "       learning_rate='optimal', loss='hinge', max_iter=1, n_iter=None,\n",
       "       n_jobs=-1, penalty='elasticnet', power_t=0.5, random_state=None,\n",
       "       shuffle=True, tol=None, verbose=0, warm_start=False)"
      ]
     },
     "execution_count": 621,
     "metadata": {},
     "output_type": "execute_result"
    }
   ],
   "source": [
    "sgd = SGDClassifier(alpha=.1,max_iter=1,penalty='elasticnet',n_jobs=-1,loss='hinge')\n",
    "sgd.fit(pca_train,train.no_show)"
   ]
  },
  {
   "cell_type": "code",
   "execution_count": 622,
   "metadata": {},
   "outputs": [],
   "source": [
    "predicted_labels = sgd.predict(pca_test)"
   ]
  },
  {
   "cell_type": "code",
   "execution_count": 623,
   "metadata": {},
   "outputs": [
    {
     "name": "stdout",
     "output_type": "stream",
     "text": [
      "Accuracy: 60.47%\n"
     ]
    }
   ],
   "source": [
    "accuracy = accuracy_score(test.no_show,predicted_labels)\n",
    "print(\"Accuracy: {0:.2%}\".format(accuracy))"
   ]
  },
  {
   "cell_type": "code",
   "execution_count": 549,
   "metadata": {},
   "outputs": [
    {
     "data": {
      "text/plain": [
       "GridSearchCV(cv=5, error_score='raise',\n",
       "       estimator=SGDClassifier(alpha=0.1, average=False, class_weight=None, epsilon=0.1,\n",
       "       eta0=0.0, fit_intercept=True, l1_ratio=0.15,\n",
       "       learning_rate='optimal', loss='hinge', max_iter=1, n_iter=None,\n",
       "       n_jobs=1, penalty='elasticnet', power_t=0.5, random_state=None,\n",
       "       shuffle=True, tol=None, verbose=0, warm_start=False),\n",
       "       fit_params=None, iid=True, n_jobs=1,\n",
       "       param_grid={'loss': ['hinge', 'log'], 'penalty': ['elasticnet', 'none', 'l2'], 'max_iter': [0.001, 0.01, 1]},\n",
       "       pre_dispatch='2*n_jobs', refit=True, return_train_score='warn',\n",
       "       scoring=None, verbose=0)"
      ]
     },
     "execution_count": 549,
     "metadata": {},
     "output_type": "execute_result"
    }
   ],
   "source": [
    "grid_clf = GridSearchCV(sgd, param_grid,cv=5)\n",
    "grid_clf.fit(train.iloc[:,:13], train.no_show)"
   ]
  },
  {
   "cell_type": "code",
   "execution_count": 550,
   "metadata": {},
   "outputs": [
    {
     "data": {
      "text/plain": [
       "{'loss': 'log', 'max_iter': 1, 'penalty': 'elasticnet'}"
      ]
     },
     "execution_count": 550,
     "metadata": {},
     "output_type": "execute_result"
    }
   ],
   "source": [
    "grid_clf.best_params_"
   ]
  },
  {
   "cell_type": "code",
   "execution_count": 651,
   "metadata": {},
   "outputs": [
    {
     "data": {
      "text/plain": [
       "SGDClassifier(alpha=0.1, average=False, class_weight=None, epsilon=0.1,\n",
       "       eta0=0.0, fit_intercept=True, l1_ratio=0.15,\n",
       "       learning_rate='optimal', loss='log', max_iter=1, n_iter=None,\n",
       "       n_jobs=-1, penalty='elasticnet', power_t=0.5, random_state=None,\n",
       "       shuffle=True, tol=None, verbose=0, warm_start=False)"
      ]
     },
     "execution_count": 651,
     "metadata": {},
     "output_type": "execute_result"
    }
   ],
   "source": [
    "sgd = SGDClassifier(alpha=.1,max_iter=1,penalty='elasticnet',n_jobs=-1,loss='log')\n",
    "sgd.fit(pca_train,train.no_show)"
   ]
  },
  {
   "cell_type": "code",
   "execution_count": 652,
   "metadata": {},
   "outputs": [],
   "source": [
    "predicted_labels = sgd.predict(pca_test)"
   ]
  },
  {
   "cell_type": "code",
   "execution_count": 653,
   "metadata": {},
   "outputs": [
    {
     "name": "stdout",
     "output_type": "stream",
     "text": [
      "Wall time: 1.5 ms\n"
     ]
    }
   ],
   "source": [
    "%%time\n",
    "predicted_labels = sgd.predict(pca_test)"
   ]
  },
  {
   "cell_type": "code",
   "execution_count": 580,
   "metadata": {},
   "outputs": [
    {
     "name": "stdout",
     "output_type": "stream",
     "text": [
      "Accuracy: 61.28%\n"
     ]
    }
   ],
   "source": [
    "accuracy = accuracy_score(test.no_show,predicted_labels)\n",
    "print(\"Accuracy: {0:.2%}\".format(accuracy))"
   ]
  },
  {
   "cell_type": "code",
   "execution_count": null,
   "metadata": {},
   "outputs": [],
   "source": []
  }
 ],
 "metadata": {
  "kernelspec": {
   "display_name": "Python 3",
   "language": "python",
   "name": "python3"
  },
  "language_info": {
   "codemirror_mode": {
    "name": "ipython",
    "version": 3
   },
   "file_extension": ".py",
   "mimetype": "text/x-python",
   "name": "python",
   "nbconvert_exporter": "python",
   "pygments_lexer": "ipython3",
   "version": "3.6.5"
  }
 },
 "nbformat": 4,
 "nbformat_minor": 2
}
